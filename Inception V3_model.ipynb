{
 "cells": [
  {
   "cell_type": "markdown",
   "metadata": {
    "id": "PSZJHD5MI1To"
   },
   "source": [
    "Importing the libraries"
   ]
  },
  {
   "cell_type": "code",
   "execution_count": 1,
   "metadata": {
    "executionInfo": {
     "elapsed": 4126,
     "status": "ok",
     "timestamp": 1622385211162,
     "user": {
      "displayName": "KLRS Biomedical",
      "photoUrl": "",
      "userId": "13462190752636494514"
     },
     "user_tz": -330
    },
    "id": "uH000j_t0eB3"
   },
   "outputs": [],
   "source": [
    "import numpy as np \n",
    "import pandas as pd \n",
    "import matplotlib.pyplot as plt\n",
    "import seaborn as sns\n",
    "\n",
    "import os\n",
    "\n",
    "import cv2\n",
    "from tqdm import tqdm\n",
    "\n",
    "from sklearn.metrics import confusion_matrix\n",
    "from sklearn.model_selection import train_test_split\n",
    "\n",
    "from tensorflow import keras\n",
    "from keras.utils.np_utils import to_categorical\n",
    "from keras.models import Model, Sequential, Input, load_model\n",
    "from keras.layers import Dense, Dropout, Flatten, Conv2D, MaxPool2D, BatchNormalization, AveragePooling2D, GlobalAveragePooling2D\n",
    "from keras.preprocessing.image import ImageDataGenerator\n",
    "from keras.callbacks import ModelCheckpoint, ReduceLROnPlateau\n",
    "from tensorflow.keras.optimizers import RMSprop\n",
    "from tensorflow.keras.applications.inception_v3 import InceptionV3"
   ]
  },
  {
   "cell_type": "markdown",
   "metadata": {
    "id": "wOsqLyqvJErM"
   },
   "source": [
    "Mounting the Google Drive"
   ]
  },
  {
   "cell_type": "code",
   "execution_count": null,
   "metadata": {
    "colab": {
     "base_uri": "https://localhost:8080/"
    },
    "executionInfo": {
     "elapsed": 877,
     "status": "ok",
     "timestamp": 1621444736072,
     "user": {
      "displayName": "KLRS Biomedical",
      "photoUrl": "",
      "userId": "13462190752636494514"
     },
     "user_tz": -330
    },
    "id": "_thLwEKx08Jc",
    "outputId": "80cbee9a-5bf1-4c40-d209-b3c647943fb5"
   },
   "outputs": [
    {
     "name": "stdout",
     "output_type": "stream",
     "text": [
      "Drive already mounted at /content/drive; to attempt to forcibly remount, call drive.mount(\"/content/drive\", force_remount=True).\n"
     ]
    }
   ],
   "source": [
    "from google.colab import drive\n",
    "drive.mount('/content/drive')"
   ]
  },
  {
   "cell_type": "markdown",
   "metadata": {
    "id": "HBPbW4xtJK_r"
   },
   "source": [
    "Importing the dataset to local environment"
   ]
  },
  {
   "cell_type": "code",
   "execution_count": null,
   "metadata": {
    "colab": {
     "base_uri": "https://localhost:8080/"
    },
    "executionInfo": {
     "elapsed": 11572,
     "status": "ok",
     "timestamp": 1621444750514,
     "user": {
      "displayName": "KLRS Biomedical",
      "photoUrl": "",
      "userId": "13462190752636494514"
     },
     "user_tz": -330
    },
    "id": "XDSggDit1Fuj",
    "outputId": "fa74dfce-cf4d-45a7-bce2-e2f2ef16ac18"
   },
   "outputs": [
    {
     "name": "stdout",
     "output_type": "stream",
     "text": [
      "Reading package lists... Done\n",
      "Building dependency tree       \n",
      "Reading state information... Done\n",
      "p7zip-full is already the newest version (16.02+dfsg-6).\n",
      "The following package was automatically installed and is no longer required:\n",
      "  libnvidia-common-460\n",
      "Use 'apt autoremove' to remove it.\n",
      "0 upgraded, 0 newly installed, 0 to remove and 34 not upgraded.\n",
      "\n",
      "7-Zip (a) [64] 16.02 : Copyright (c) 1999-2016 Igor Pavlov : 2016-05-21\n",
      "p7zip Version 16.02 (locale=en_US.UTF-8,Utf16=on,HugeFiles=on,64 bits,2 CPUs Intel(R) Xeon(R) CPU @ 2.20GHz (406F0),ASM,AES-NI)\n",
      "\n",
      "Scanning the drive for archives:\n",
      "  0M Scan /content/drive/MyDrive/\b\b\b\b\b\b\b\b\b\b\b\b\b\b\b\b\b\b\b\b\b\b\b\b\b\b\b\b\b\b\b\b\b                                 \b\b\b\b\b\b\b\b\b\b\b\b\b\b\b\b\b\b\b\b\b\b\b\b\b\b\b\b\b\b\b\b\b1 folder, 1 file, 241675852 bytes (231 MiB)\n",
      "\n",
      "Extracting archive: /content/drive/MyDrive/Datasetzip/Datastcn.zip\n",
      "--\n",
      "Path = /content/drive/MyDrive/Datasetzip/Datastcn.zip\n",
      "Type = zip\n",
      "Physical Size = 241675852\n",
      "\n",
      "  0%\b\b\b\b    \b\b\b\b  6% 170 - Datastcn/datasetcn/COVID/Covid (115).png\b\b\b\b\b\b\b\b\b\b\b\b\b\b\b\b\b\b\b\b\b\b\b\b\b\b\b\b\b\b\b\b\b\b\b\b\b\b\b\b\b\b\b\b\b\b\b\b\b\b\b                                                   \b\b\b\b\b\b\b\b\b\b\b\b\b\b\b\b\b\b\b\b\b\b\b\b\b\b\b\b\b\b\b\b\b\b\b\b\b\b\b\b\b\b\b\b\b\b\b\b\b\b\b 13% 323 - Datastcn/datasetcn/COVID/Covid (160).png\b\b\b\b\b\b\b\b\b\b\b\b\b\b\b\b\b\b\b\b\b\b\b\b\b\b\b\b\b\b\b\b\b\b\b\b\b\b\b\b\b\b\b\b\b\b\b\b\b\b\b                                                   \b\b\b\b\b\b\b\b\b\b\b\b\b\b\b\b\b\b\b\b\b\b\b\b\b\b\b\b\b\b\b\b\b\b\b\b\b\b\b\b\b\b\b\b\b\b\b\b\b\b\b 14% 348 - Datastcn/datasetcn/COVID/Covid (183).png\b\b\b\b\b\b\b\b\b\b\b\b\b\b\b\b\b\b\b\b\b\b\b\b\b\b\b\b\b\b\b\b\b\b\b\b\b\b\b\b\b\b\b\b\b\b\b\b\b\b\b                                                   \b\b\b\b\b\b\b\b\b\b\b\b\b\b\b\b\b\b\b\b\b\b\b\b\b\b\b\b\b\b\b\b\b\b\b\b\b\b\b\b\b\b\b\b\b\b\b\b\b\b\b 20% 530 - Datastcn/datasetcn/COVID/Covid (347).png\b\b\b\b\b\b\b\b\b\b\b\b\b\b\b\b\b\b\b\b\b\b\b\b\b\b\b\b\b\b\b\b\b\b\b\b\b\b\b\b\b\b\b\b\b\b\b\b\b\b\b                                                   \b\b\b\b\b\b\b\b\b\b\b\b\b\b\b\b\b\b\b\b\b\b\b\b\b\b\b\b\b\b\b\b\b\b\b\b\b\b\b\b\b\b\b\b\b\b\b\b\b\b\b 24% 633 - Datastcn/datasetcn/COVID/Covid (44).png\b\b\b\b\b\b\b\b\b\b\b\b\b\b\b\b\b\b\b\b\b\b\b\b\b\b\b\b\b\b\b\b\b\b\b\b\b\b\b\b\b\b\b\b\b\b\b\b\b\b                                                  \b\b\b\b\b\b\b\b\b\b\b\b\b\b\b\b\b\b\b\b\b\b\b\b\b\b\b\b\b\b\b\b\b\b\b\b\b\b\b\b\b\b\b\b\b\b\b\b\b\b 27% 705 - Datastcn/datasetcn/COVID/Covid (504).png\b\b\b\b\b\b\b\b\b\b\b\b\b\b\b\b\b\b\b\b\b\b\b\b\b\b\b\b\b\b\b\b\b\b\b\b\b\b\b\b\b\b\b\b\b\b\b\b\b\b\b                                                   \b\b\b\b\b\b\b\b\b\b\b\b\b\b\b\b\b\b\b\b\b\b\b\b\b\b\b\b\b\b\b\b\b\b\b\b\b\b\b\b\b\b\b\b\b\b\b\b\b\b\b 31% 840 - Datastcn/datasetcn/COVID/Covid (626).png\b\b\b\b\b\b\b\b\b\b\b\b\b\b\b\b\b\b\b\b\b\b\b\b\b\b\b\b\b\b\b\b\b\b\b\b\b\b\b\b\b\b\b\b\b\b\b\b\b\b\b                                                   \b\b\b\b\b\b\b\b\b\b\b\b\b\b\b\b\b\b\b\b\b\b\b\b\b\b\b\b\b\b\b\b\b\b\b\b\b\b\b\b\b\b\b\b\b\b\b\b\b\b\b 34% 937 - Datastcn/datasetcn/COVID/Covid (713).png\b\b\b\b\b\b\b\b\b\b\b\b\b\b\b\b\b\b\b\b\b\b\b\b\b\b\b\b\b\b\b\b\b\b\b\b\b\b\b\b\b\b\b\b\b\b\b\b\b\b\b                                                   \b\b\b\b\b\b\b\b\b\b\b\b\b\b\b\b\b\b\b\b\b\b\b\b\b\b\b\b\b\b\b\b\b\b\b\b\b\b\b\b\b\b\b\b\b\b\b\b\b\b\b 39% 1038 - Datastcn/datasetcn/COVID/Covid (804).png\b\b\b\b\b\b\b\b\b\b\b\b\b\b\b\b\b\b\b\b\b\b\b\b\b\b\b\b\b\b\b\b\b\b\b\b\b\b\b\b\b\b\b\b\b\b\b\b\b\b\b\b                                                    \b\b\b\b\b\b\b\b\b\b\b\b\b\b\b\b\b\b\b\b\b\b\b\b\b\b\b\b\b\b\b\b\b\b\b\b\b\b\b\b\b\b\b\b\b\b\b\b\b\b\b\b 41% 1094 - Datastcn/datasetcn/COVID/Covid (855).png\b\b\b\b\b\b\b\b\b\b\b\b\b\b\b\b\b\b\b\b\b\b\b\b\b\b\b\b\b\b\b\b\b\b\b\b\b\b\b\b\b\b\b\b\b\b\b\b\b\b\b\b                                                    \b\b\b\b\b\b\b\b\b\b\b\b\b\b\b\b\b\b\b\b\b\b\b\b\b\b\b\b\b\b\b\b\b\b\b\b\b\b\b\b\b\b\b\b\b\b\b\b\b\b\b\b 45% 1170 - Datastcn/datasetcn/COVID/Covid (923).png\b\b\b\b\b\b\b\b\b\b\b\b\b\b\b\b\b\b\b\b\b\b\b\b\b\b\b\b\b\b\b\b\b\b\b\b\b\b\b\b\b\b\b\b\b\b\b\b\b\b\b\b                                                    \b\b\b\b\b\b\b\b\b\b\b\b\b\b\b\b\b\b\b\b\b\b\b\b\b\b\b\b\b\b\b\b\b\b\b\b\b\b\b\b\b\b\b\b\b\b\b\b\b\b\b\b 51% 1300 - Datastcn/datasetcn/non-COVID/Non-Covid (1039).png\b\b\b\b\b\b\b\b\b\b\b\b\b\b\b\b\b\b\b\b\b\b\b\b\b\b\b\b\b\b\b\b\b\b\b\b\b\b\b\b\b\b\b\b\b\b\b\b\b\b\b\b\b\b\b\b\b\b\b\b\b                                                             \b\b\b\b\b\b\b\b\b\b\b\b\b\b\b\b\b\b\b\b\b\b\b\b\b\b\b\b\b\b\b\b\b\b\b\b\b\b\b\b\b\b\b\b\b\b\b\b\b\b\b\b\b\b\b\b\b\b\b\b\b 58% 1474\b\b\b\b\b\b\b\b\b         \b\b\b\b\b\b\b\b\b 65% 1646 - Datastcn/datasetcn/non-COVID/Non-Covid (244).png\b\b\b\b\b\b\b\b\b\b\b\b\b\b\b\b\b\b\b\b\b\b\b\b\b\b\b\b\b\b\b\b\b\b\b\b\b\b\b\b\b\b\b\b\b\b\b\b\b\b\b\b\b\b\b\b\b\b\b\b                                                            \b\b\b\b\b\b\b\b\b\b\b\b\b\b\b\b\b\b\b\b\b\b\b\b\b\b\b\b\b\b\b\b\b\b\b\b\b\b\b\b\b\b\b\b\b\b\b\b\b\b\b\b\b\b\b\b\b\b\b\b 69% 1762 - Datastcn/datasetcn/non-COVID/Non-Covid (349).png\b\b\b\b\b\b\b\b\b\b\b\b\b\b\b\b\b\b\b\b\b\b\b\b\b\b\b\b\b\b\b\b\b\b\b\b\b\b\b\b\b\b\b\b\b\b\b\b\b\b\b\b\b\b\b\b\b\b\b\b                                                            \b\b\b\b\b\b\b\b\b\b\b\b\b\b\b\b\b\b\b\b\b\b\b\b\b\b\b\b\b\b\b\b\b\b\b\b\b\b\b\b\b\b\b\b\b\b\b\b\b\b\b\b\b\b\b\b\b\b\b\b 75% 1896 - Datastcn/datasetcn/non-COVID/Non-Covid (47).png\b\b\b\b\b\b\b\b\b\b\b\b\b\b\b\b\b\b\b\b\b\b\b\b\b\b\b\b\b\b\b\b\b\b\b\b\b\b\b\b\b\b\b\b\b\b\b\b\b\b\b\b\b\b\b\b\b\b\b                                                           \b\b\b\b\b\b\b\b\b\b\b\b\b\b\b\b\b\b\b\b\b\b\b\b\b\b\b\b\b\b\b\b\b\b\b\b\b\b\b\b\b\b\b\b\b\b\b\b\b\b\b\b\b\b\b\b\b\b\b 81% 2034 - Datastcn/datasetcn/non-COVID/Non-Covid (594).png\b\b\b\b\b\b\b\b\b\b\b\b\b\b\b\b\b\b\b\b\b\b\b\b\b\b\b\b\b\b\b\b\b\b\b\b\b\b\b\b\b\b\b\b\b\b\b\b\b\b\b\b\b\b\b\b\b\b\b\b                                                            \b\b\b\b\b\b\b\b\b\b\b\b\b\b\b\b\b\b\b\b\b\b\b\b\b\b\b\b\b\b\b\b\b\b\b\b\b\b\b\b\b\b\b\b\b\b\b\b\b\b\b\b\b\b\b\b\b\b\b\b 86% 2174 - Datastcn/datasetcn/non-COVID/Non-Covid (72).png\b\b\b\b\b\b\b\b\b\b\b\b\b\b\b\b\b\b\b\b\b\b\b\b\b\b\b\b\b\b\b\b\b\b\b\b\b\b\b\b\b\b\b\b\b\b\b\b\b\b\b\b\b\b\b\b\b\b\b                                                           \b\b\b\b\b\b\b\b\b\b\b\b\b\b\b\b\b\b\b\b\b\b\b\b\b\b\b\b\b\b\b\b\b\b\b\b\b\b\b\b\b\b\b\b\b\b\b\b\b\b\b\b\b\b\b\b\b\b\b 92% 2308 - Datastcn/datasetcn/non-COVID/Non-Covid (840).png\b\b\b\b\b\b\b\b\b\b\b\b\b\b\b\b\b\b\b\b\b\b\b\b\b\b\b\b\b\b\b\b\b\b\b\b\b\b\b\b\b\b\b\b\b\b\b\b\b\b\b\b\b\b\b\b\b\b\b\b                                                            \b\b\b\b\b\b\b\b\b\b\b\b\b\b\b\b\b\b\b\b\b\b\b\b\b\b\b\b\b\b\b\b\b\b\b\b\b\b\b\b\b\b\b\b\b\b\b\b\b\b\b\b\b\b\b\b\b\b\b\b 98% 2444 - Datastcn/datasetcn/non-COVID/Non-Covid (963).png\b\b\b\b\b\b\b\b\b\b\b\b\b\b\b\b\b\b\b\b\b\b\b\b\b\b\b\b\b\b\b\b\b\b\b\b\b\b\b\b\b\b\b\b\b\b\b\b\b\b\b\b\b\b\b\b\b\b\b\b                                                            \b\b\b\b\b\b\b\b\b\b\b\b\b\b\b\b\b\b\b\b\b\b\b\b\b\b\b\b\b\b\b\b\b\b\b\b\b\b\b\b\b\b\b\b\b\b\b\b\b\b\b\b\b\b\b\b\b\b\b\bEverything is Ok\n",
      "\n",
      "Folders: 3\n",
      "Files: 2481\n",
      "Size:       242234624\n",
      "Compressed: 241675852\n"
     ]
    }
   ],
   "source": [
    "!apt-get install p7zip-full\n",
    "!7za x '/content/drive/MyDrive/Datasetzip'"
   ]
  },
  {
   "cell_type": "markdown",
   "metadata": {
    "id": "tXlPLeOxJW7O"
   },
   "source": [
    "Creating a dataframe"
   ]
  },
  {
   "cell_type": "code",
   "execution_count": null,
   "metadata": {
    "colab": {
     "base_uri": "https://localhost:8080/",
     "height": 204
    },
    "executionInfo": {
     "elapsed": 936,
     "status": "ok",
     "timestamp": 1621444776867,
     "user": {
      "displayName": "KLRS Biomedical",
      "photoUrl": "",
      "userId": "13462190752636494514"
     },
     "user_tz": -330
    },
    "id": "bLxCDEMn1Jwm",
    "outputId": "d8bf3eb8-b3e0-400d-d1e7-9040678bcb4e"
   },
   "outputs": [
    {
     "data": {
      "text/html": [
       "<div>\n",
       "<style scoped>\n",
       "    .dataframe tbody tr th:only-of-type {\n",
       "        vertical-align: middle;\n",
       "    }\n",
       "\n",
       "    .dataframe tbody tr th {\n",
       "        vertical-align: top;\n",
       "    }\n",
       "\n",
       "    .dataframe thead th {\n",
       "        text-align: right;\n",
       "    }\n",
       "</style>\n",
       "<table border=\"1\" class=\"dataframe\">\n",
       "  <thead>\n",
       "    <tr style=\"text-align: right;\">\n",
       "      <th></th>\n",
       "      <th>Image</th>\n",
       "      <th>Class ID</th>\n",
       "      <th>Type of Disease</th>\n",
       "    </tr>\n",
       "  </thead>\n",
       "  <tbody>\n",
       "    <tr>\n",
       "      <th>0</th>\n",
       "      <td>COVID/Covid (362).png</td>\n",
       "      <td>0</td>\n",
       "      <td>COVID</td>\n",
       "    </tr>\n",
       "    <tr>\n",
       "      <th>1</th>\n",
       "      <td>COVID/Covid (1115).png</td>\n",
       "      <td>0</td>\n",
       "      <td>COVID</td>\n",
       "    </tr>\n",
       "    <tr>\n",
       "      <th>2</th>\n",
       "      <td>COVID/Covid (782).png</td>\n",
       "      <td>0</td>\n",
       "      <td>COVID</td>\n",
       "    </tr>\n",
       "    <tr>\n",
       "      <th>3</th>\n",
       "      <td>COVID/Covid (696).png</td>\n",
       "      <td>0</td>\n",
       "      <td>COVID</td>\n",
       "    </tr>\n",
       "    <tr>\n",
       "      <th>4</th>\n",
       "      <td>COVID/Covid (1116).png</td>\n",
       "      <td>0</td>\n",
       "      <td>COVID</td>\n",
       "    </tr>\n",
       "  </tbody>\n",
       "</table>\n",
       "</div>"
      ],
      "text/plain": [
       "                    Image  Class ID Type of Disease\n",
       "0   COVID/Covid (362).png         0           COVID\n",
       "1  COVID/Covid (1115).png         0           COVID\n",
       "2   COVID/Covid (782).png         0           COVID\n",
       "3   COVID/Covid (696).png         0           COVID\n",
       "4  COVID/Covid (1116).png         0           COVID"
      ]
     },
     "execution_count": 4,
     "metadata": {
      "tags": []
     },
     "output_type": "execute_result"
    }
   ],
   "source": [
    "data_train = []\n",
    "type_of_disease =['COVID', 'non-COVID']\n",
    "data_directory = '/content/Datastcn/datasetcn'\n",
    "train_directory = os.path.join(data_directory)\n",
    "\n",
    "for id, td in enumerate(type_of_disease):\n",
    "    for file in os.listdir(os.path.join(train_directory, td)):\n",
    "        data_train.append(['{}/{}'.format(td, file), id, td])\n",
    "        \n",
    "train = pd.DataFrame(data_train, columns=['Image', 'Class ID','Type of Disease'])\n",
    "train.head()"
   ]
  },
  {
   "cell_type": "code",
   "execution_count": null,
   "metadata": {
    "colab": {
     "base_uri": "https://localhost:8080/",
     "height": 204
    },
    "executionInfo": {
     "elapsed": 898,
     "status": "ok",
     "timestamp": 1621444788514,
     "user": {
      "displayName": "KLRS Biomedical",
      "photoUrl": "",
      "userId": "13462190752636494514"
     },
     "user_tz": -330
    },
    "id": "KBO2eA8z3_nE",
    "outputId": "1ecdd061-fba8-4134-90e5-228559c2b64d"
   },
   "outputs": [
    {
     "data": {
      "text/html": [
       "<div>\n",
       "<style scoped>\n",
       "    .dataframe tbody tr th:only-of-type {\n",
       "        vertical-align: middle;\n",
       "    }\n",
       "\n",
       "    .dataframe tbody tr th {\n",
       "        vertical-align: top;\n",
       "    }\n",
       "\n",
       "    .dataframe thead th {\n",
       "        text-align: right;\n",
       "    }\n",
       "</style>\n",
       "<table border=\"1\" class=\"dataframe\">\n",
       "  <thead>\n",
       "    <tr style=\"text-align: right;\">\n",
       "      <th></th>\n",
       "      <th>Image</th>\n",
       "      <th>Class ID</th>\n",
       "      <th>Type of Disease</th>\n",
       "    </tr>\n",
       "  </thead>\n",
       "  <tbody>\n",
       "    <tr>\n",
       "      <th>0</th>\n",
       "      <td>COVID/Covid (447).png</td>\n",
       "      <td>0</td>\n",
       "      <td>COVID</td>\n",
       "    </tr>\n",
       "    <tr>\n",
       "      <th>1</th>\n",
       "      <td>COVID/Covid (764).png</td>\n",
       "      <td>0</td>\n",
       "      <td>COVID</td>\n",
       "    </tr>\n",
       "    <tr>\n",
       "      <th>2</th>\n",
       "      <td>non-COVID/Non-Covid (797).png</td>\n",
       "      <td>1</td>\n",
       "      <td>non-COVID</td>\n",
       "    </tr>\n",
       "    <tr>\n",
       "      <th>3</th>\n",
       "      <td>non-COVID/Non-Covid (1221).png</td>\n",
       "      <td>1</td>\n",
       "      <td>non-COVID</td>\n",
       "    </tr>\n",
       "    <tr>\n",
       "      <th>4</th>\n",
       "      <td>COVID/Covid (482).png</td>\n",
       "      <td>0</td>\n",
       "      <td>COVID</td>\n",
       "    </tr>\n",
       "  </tbody>\n",
       "</table>\n",
       "</div>"
      ],
      "text/plain": [
       "                            Image  Class ID Type of Disease\n",
       "0           COVID/Covid (447).png         0           COVID\n",
       "1           COVID/Covid (764).png         0           COVID\n",
       "2   non-COVID/Non-Covid (797).png         1       non-COVID\n",
       "3  non-COVID/Non-Covid (1221).png         1       non-COVID\n",
       "4           COVID/Covid (482).png         0           COVID"
      ]
     },
     "execution_count": 5,
     "metadata": {
      "tags": []
     },
     "output_type": "execute_result"
    }
   ],
   "source": [
    "SEED = 42\n",
    "train = train.sample(frac=1, random_state=SEED)\n",
    "train.index = np.arange(len(train))\n",
    "train.head()"
   ]
  },
  {
   "cell_type": "code",
   "execution_count": null,
   "metadata": {
    "id": "wY-rej555hQj"
   },
   "outputs": [],
   "source": [
    "def show_images(disease_type, r, c):\n",
    "    fig,ax = plt.subplots(r,c, figsize=(10,10))\n",
    "    disease_image = train['Image'][train['Type of Disease'] == disease_type].values\n",
    "    n = 0\n",
    "    print(disease_type+' images')\n",
    "    for i in range(r):\n",
    "        for j in range(c):\n",
    "            image = os.path.join(data_directory, disease_image[n])\n",
    "            ax[i, j].set_xticks([])\n",
    "            ax[i, j].set_yticks([])\n",
    "            ax[i, j].imshow(cv2.imread(image))\n",
    "            n += 1\n"
   ]
  },
  {
   "cell_type": "markdown",
   "metadata": {
    "id": "EtvzI4Y7JjIr"
   },
   "source": [
    "Plotting the covid images"
   ]
  },
  {
   "cell_type": "code",
   "execution_count": null,
   "metadata": {
    "id": "8Ucr4quE8jy7"
   },
   "outputs": [],
   "source": [
    "SIZE_OF_IMAGE = 150\n",
    "def read_image(imagepath):\n",
    "    return cv2.imread(os.path.join(data_directory, imagepath))\n",
    "\n",
    "def resize_image(image, image_Size):\n",
    "    return cv2.resize(image.copy(), image_Size, interpolation=cv2.INTER_AREA)"
   ]
  },
  {
   "cell_type": "markdown",
   "metadata": {
    "id": "kJyUgMtQJ2Jw"
   },
   "source": [
    "Reshaping all the images to 150 * 150 * 3"
   ]
  },
  {
   "cell_type": "code",
   "execution_count": null,
   "metadata": {
    "colab": {
     "base_uri": "https://localhost:8080/"
    },
    "executionInfo": {
     "elapsed": 10530,
     "status": "ok",
     "timestamp": 1621444858188,
     "user": {
      "displayName": "KLRS Biomedical",
      "photoUrl": "",
      "userId": "13462190752636494514"
     },
     "user_tz": -330
    },
    "id": "amh2J0at8vs6",
    "outputId": "f0ee22ff-02b3-4c1c-8c91-20d11a2c14ad"
   },
   "outputs": [
    {
     "name": "stderr",
     "output_type": "stream",
     "text": [
      "2481it [00:08, 277.98it/s]\n"
     ]
    },
    {
     "name": "stdout",
     "output_type": "stream",
     "text": [
      "Train shape: (2481, 150, 150, 3)\n"
     ]
    }
   ],
   "source": [
    "x_train = np.zeros((train.shape[0], SIZE_OF_IMAGE, SIZE_OF_IMAGE, 3))\n",
    "\n",
    "for i, file in tqdm(enumerate(train['Image'].values)):\n",
    "    image = read_image(file)\n",
    "    \n",
    "    if image is not None:\n",
    "        x_train[i] = resize_image(image,(SIZE_OF_IMAGE, SIZE_OF_IMAGE))\n",
    "        \n",
    "X_Train = x_train / 255\n",
    "\n",
    "print('Train shape: {}'.format(X_Train.shape))"
   ]
  },
  {
   "cell_type": "code",
   "execution_count": null,
   "metadata": {
    "id": "uLtl0RVl89V7"
   },
   "outputs": [],
   "source": [
    "y_train = train['Class ID'].values\n",
    "y_train = to_categorical(y_train, num_classes=2)"
   ]
  },
  {
   "cell_type": "markdown",
   "metadata": {
    "id": "1azeQk6PKD1e"
   },
   "source": [
    "Train test split(0.8,0.2)"
   ]
  },
  {
   "cell_type": "code",
   "execution_count": null,
   "metadata": {
    "id": "sVq11LAYAPTc"
   },
   "outputs": [],
   "source": [
    "BATCH_SIZE = 64\n",
    "\n",
    "X_train, X_test, Y_train, Y_test = train_test_split(X_Train,y_train, test_size=0.2, random_state=SEED)"
   ]
  },
  {
   "cell_type": "code",
   "execution_count": null,
   "metadata": {
    "id": "j6OgfsqoG9Gc"
   },
   "outputs": [],
   "source": [
    "EPOCHS = 30\n",
    "SIZE=150\n",
    "N_ch=3"
   ]
  },
  {
   "cell_type": "markdown",
   "metadata": {
    "id": "-zqBDc7OKSzq"
   },
   "source": [
    "Creating the inceptionv3 model with imagenet weights initially and trained the model"
   ]
  },
  {
   "cell_type": "code",
   "execution_count": null,
   "metadata": {
    "id": "NDSoG1eQHBII"
   },
   "outputs": [],
   "source": [
    "def build_inceptionv3():\n",
    "    inceptionv3 = InceptionV3(weights='imagenet', include_top=False)\n",
    "\n",
    "    input = Input(shape=(SIZE, SIZE, N_ch))\n",
    "    x = Conv2D(3, (3, 3), padding='same')(input)\n",
    "    \n",
    "    x = inceptionv3(x)\n",
    "    \n",
    "    x = GlobalAveragePooling2D()(x)\n",
    "    x = BatchNormalization()(x)\n",
    "    x = Dropout(0.5)(x)\n",
    "    x = Dense(256, activation='relu')(x)\n",
    "    x = BatchNormalization()(x)\n",
    "    x = Dropout(0.5)(x)\n",
    "\n",
    "    output = Dense(2,activation = 'softmax', name='root')(x)\n",
    " \n",
    "    model = Model(input,output)\n",
    "    \n",
    "    optimizer = RMSprop(lr=0.0001)\n",
    "    model.compile(loss='categorical_crossentropy', optimizer=optimizer, metrics=['accuracy'])\n",
    "    model.summary()\n",
    "    \n",
    "    return model"
   ]
  },
  {
   "cell_type": "code",
   "execution_count": null,
   "metadata": {
    "colab": {
     "base_uri": "https://localhost:8080/"
    },
    "executionInfo": {
     "elapsed": 443125,
     "status": "ok",
     "timestamp": 1621445443277,
     "user": {
      "displayName": "KLRS Biomedical",
      "photoUrl": "",
      "userId": "13462190752636494514"
     },
     "user_tz": -330
    },
    "id": "VU41xLIDHE8R",
    "outputId": "f9be2157-67ad-43d0-942f-912a4819214e"
   },
   "outputs": [
    {
     "name": "stdout",
     "output_type": "stream",
     "text": [
      "Downloading data from https://storage.googleapis.com/tensorflow/keras-applications/inception_v3/inception_v3_weights_tf_dim_ordering_tf_kernels_notop.h5\n",
      "87916544/87910968 [==============================] - 1s 0us/step\n",
      "Model: \"model\"\n",
      "_________________________________________________________________\n",
      "Layer (type)                 Output Shape              Param #   \n",
      "=================================================================\n",
      "input_2 (InputLayer)         [(None, 150, 150, 3)]     0         \n",
      "_________________________________________________________________\n",
      "conv2d_94 (Conv2D)           (None, 150, 150, 3)       84        \n",
      "_________________________________________________________________\n",
      "inception_v3 (Functional)    (None, None, None, 2048)  21802784  \n",
      "_________________________________________________________________\n",
      "global_average_pooling2d (Gl (None, 2048)              0         \n",
      "_________________________________________________________________\n",
      "batch_normalization_94 (Batc (None, 2048)              8192      \n",
      "_________________________________________________________________\n",
      "dropout (Dropout)            (None, 2048)              0         \n",
      "_________________________________________________________________\n",
      "dense (Dense)                (None, 256)               524544    \n",
      "_________________________________________________________________\n",
      "batch_normalization_95 (Batc (None, 256)               1024      \n",
      "_________________________________________________________________\n",
      "dropout_1 (Dropout)          (None, 256)               0         \n",
      "_________________________________________________________________\n",
      "root (Dense)                 (None, 2)                 514       \n",
      "=================================================================\n",
      "Total params: 22,337,142\n",
      "Trainable params: 22,298,102\n",
      "Non-trainable params: 39,040\n",
      "_________________________________________________________________\n"
     ]
    },
    {
     "name": "stderr",
     "output_type": "stream",
     "text": [
      "/usr/local/lib/python3.7/dist-packages/tensorflow/python/keras/engine/training.py:1844: UserWarning: `Model.fit_generator` is deprecated and will be removed in a future version. Please use `Model.fit`, which supports generators.\n",
      "  warnings.warn('`Model.fit_generator` is deprecated and '\n"
     ]
    },
    {
     "name": "stdout",
     "output_type": "stream",
     "text": [
      "Epoch 1/30\n",
      "31/31 - 61s - loss: 1.0758 - accuracy: 0.5907 - val_loss: 1.0595 - val_accuracy: 0.5070\n",
      "\n",
      "Epoch 00001: val_loss improved from inf to 1.05953, saving model to /content/drive/MyDrive/Colab Notebooks/inecptionV31905_best.h5\n",
      "Epoch 2/30\n",
      "31/31 - 12s - loss: 0.8619 - accuracy: 0.6663 - val_loss: 1.1410 - val_accuracy: 0.5513\n",
      "\n",
      "Epoch 00002: val_loss did not improve from 1.05953\n",
      "Epoch 3/30\n",
      "31/31 - 12s - loss: 0.7737 - accuracy: 0.7152 - val_loss: 1.3382 - val_accuracy: 0.5231\n",
      "\n",
      "Epoch 00003: val_loss did not improve from 1.05953\n",
      "Epoch 4/30\n",
      "31/31 - 12s - loss: 0.7538 - accuracy: 0.7334 - val_loss: 1.9807 - val_accuracy: 0.4849\n",
      "\n",
      "Epoch 00004: val_loss did not improve from 1.05953\n",
      "Epoch 5/30\n",
      "31/31 - 12s - loss: 0.6921 - accuracy: 0.7500 - val_loss: 1.4191 - val_accuracy: 0.5352\n",
      "\n",
      "Epoch 00005: val_loss did not improve from 1.05953\n",
      "Epoch 6/30\n",
      "31/31 - 12s - loss: 0.6430 - accuracy: 0.7752 - val_loss: 0.8854 - val_accuracy: 0.6519\n",
      "\n",
      "Epoch 00006: val_loss improved from 1.05953 to 0.88544, saving model to /content/drive/MyDrive/Colab Notebooks/inecptionV31905_best.h5\n",
      "Epoch 7/30\n",
      "31/31 - 12s - loss: 0.6669 - accuracy: 0.7757 - val_loss: 1.2454 - val_accuracy: 0.6579\n",
      "\n",
      "Epoch 00007: val_loss did not improve from 0.88544\n",
      "Epoch 8/30\n",
      "31/31 - 12s - loss: 0.5180 - accuracy: 0.8024 - val_loss: 0.9376 - val_accuracy: 0.7284\n",
      "\n",
      "Epoch 00008: val_loss did not improve from 0.88544\n",
      "Epoch 9/30\n",
      "31/31 - 12s - loss: 0.4844 - accuracy: 0.8120 - val_loss: 0.9210 - val_accuracy: 0.7626\n",
      "\n",
      "Epoch 00009: val_loss did not improve from 0.88544\n",
      "Epoch 10/30\n",
      "31/31 - 12s - loss: 0.4727 - accuracy: 0.8085 - val_loss: 1.5840 - val_accuracy: 0.7646\n",
      "\n",
      "Epoch 00010: val_loss did not improve from 0.88544\n",
      "Epoch 11/30\n",
      "31/31 - 12s - loss: 0.4480 - accuracy: 0.8216 - val_loss: 1.8334 - val_accuracy: 0.7364\n",
      "\n",
      "Epoch 00011: val_loss did not improve from 0.88544\n",
      "Epoch 12/30\n",
      "31/31 - 12s - loss: 0.4136 - accuracy: 0.8317 - val_loss: 1.2512 - val_accuracy: 0.7847\n",
      "\n",
      "Epoch 00012: val_loss did not improve from 0.88544\n",
      "Epoch 13/30\n",
      "31/31 - 12s - loss: 0.3915 - accuracy: 0.8291 - val_loss: 2.8880 - val_accuracy: 0.6660\n",
      "\n",
      "Epoch 00013: val_loss did not improve from 0.88544\n",
      "Epoch 14/30\n",
      "31/31 - 12s - loss: 0.3715 - accuracy: 0.8523 - val_loss: 2.0885 - val_accuracy: 0.7425\n",
      "\n",
      "Epoch 00014: val_loss did not improve from 0.88544\n",
      "Epoch 15/30\n",
      "31/31 - 12s - loss: 0.3399 - accuracy: 0.8664 - val_loss: 1.5475 - val_accuracy: 0.7907\n",
      "\n",
      "Epoch 00015: val_loss did not improve from 0.88544\n",
      "Epoch 16/30\n",
      "31/31 - 12s - loss: 0.3140 - accuracy: 0.8715 - val_loss: 0.9642 - val_accuracy: 0.8390\n",
      "\n",
      "Epoch 00016: val_loss did not improve from 0.88544\n",
      "Epoch 17/30\n",
      "31/31 - 12s - loss: 0.3485 - accuracy: 0.8609 - val_loss: 0.8760 - val_accuracy: 0.8913\n",
      "\n",
      "Epoch 00017: val_loss improved from 0.88544 to 0.87598, saving model to /content/drive/MyDrive/Colab Notebooks/inecptionV31905_best.h5\n",
      "Epoch 18/30\n",
      "31/31 - 12s - loss: 0.3297 - accuracy: 0.8604 - val_loss: 1.0662 - val_accuracy: 0.8592\n",
      "\n",
      "Epoch 00018: val_loss did not improve from 0.87598\n",
      "Epoch 19/30\n",
      "31/31 - 12s - loss: 0.2797 - accuracy: 0.8816 - val_loss: 0.7754 - val_accuracy: 0.8913\n",
      "\n",
      "Epoch 00019: val_loss improved from 0.87598 to 0.77536, saving model to /content/drive/MyDrive/Colab Notebooks/inecptionV31905_best.h5\n",
      "Epoch 20/30\n",
      "31/31 - 12s - loss: 0.2707 - accuracy: 0.8942 - val_loss: 0.5753 - val_accuracy: 0.8893\n",
      "\n",
      "Epoch 00020: val_loss improved from 0.77536 to 0.57533, saving model to /content/drive/MyDrive/Colab Notebooks/inecptionV31905_best.h5\n",
      "Epoch 21/30\n",
      "31/31 - 12s - loss: 0.2833 - accuracy: 0.8876 - val_loss: 0.8504 - val_accuracy: 0.8873\n",
      "\n",
      "Epoch 00021: val_loss did not improve from 0.57533\n",
      "Epoch 22/30\n",
      "31/31 - 12s - loss: 0.2583 - accuracy: 0.8901 - val_loss: 0.8609 - val_accuracy: 0.8571\n",
      "\n",
      "Epoch 00022: val_loss did not improve from 0.57533\n",
      "Epoch 23/30\n",
      "31/31 - 12s - loss: 0.2747 - accuracy: 0.8816 - val_loss: 0.6195 - val_accuracy: 0.8994\n",
      "\n",
      "Epoch 00023: val_loss did not improve from 0.57533\n",
      "Epoch 24/30\n",
      "31/31 - 12s - loss: 0.2309 - accuracy: 0.9057 - val_loss: 0.4114 - val_accuracy: 0.9195\n",
      "\n",
      "Epoch 00024: val_loss improved from 0.57533 to 0.41140, saving model to /content/drive/MyDrive/Colab Notebooks/inecptionV31905_best.h5\n",
      "Epoch 25/30\n",
      "31/31 - 12s - loss: 0.2173 - accuracy: 0.9057 - val_loss: 0.4610 - val_accuracy: 0.8994\n",
      "\n",
      "Epoch 00025: val_loss did not improve from 0.41140\n",
      "Epoch 26/30\n",
      "31/31 - 12s - loss: 0.2092 - accuracy: 0.9133 - val_loss: 0.4882 - val_accuracy: 0.8390\n",
      "\n",
      "Epoch 00026: val_loss did not improve from 0.41140\n",
      "Epoch 27/30\n",
      "31/31 - 12s - loss: 0.2120 - accuracy: 0.9133 - val_loss: 0.4704 - val_accuracy: 0.8652\n",
      "\n",
      "Epoch 00027: val_loss did not improve from 0.41140\n",
      "Epoch 28/30\n",
      "31/31 - 12s - loss: 0.2149 - accuracy: 0.9068 - val_loss: 0.3912 - val_accuracy: 0.9074\n",
      "\n",
      "Epoch 00028: val_loss improved from 0.41140 to 0.39116, saving model to /content/drive/MyDrive/Colab Notebooks/inecptionV31905_best.h5\n",
      "Epoch 29/30\n",
      "31/31 - 12s - loss: 0.2348 - accuracy: 0.9073 - val_loss: 0.9226 - val_accuracy: 0.8712\n",
      "\n",
      "Epoch 00029: val_loss did not improve from 0.39116\n",
      "Epoch 30/30\n",
      "31/31 - 12s - loss: 0.1881 - accuracy: 0.9229 - val_loss: 0.2182 - val_accuracy: 0.9276\n",
      "\n",
      "Epoch 00030: val_loss improved from 0.39116 to 0.21824, saving model to /content/drive/MyDrive/Colab Notebooks/inecptionV31905_best.h5\n"
     ]
    }
   ],
   "source": [
    "model = build_inceptionv3()\n",
    "annealer = ReduceLROnPlateau(monitor='val_accuracy', factor=0.5, patience=5, verbose=1, min_lr=1e-3)\n",
    "checkpoint = ModelCheckpoint('/content/drive/MyDrive/Colab Notebooks/inecptionV31905_best.h5', verbose=1, save_best_only=True)\n",
    "\n",
    "datagen = ImageDataGenerator(rotation_range=360, \n",
    "                        width_shift_range=0.2, \n",
    "                        height_shift_range=0.2,\n",
    "                        zoom_range=0.2, \n",
    "                        horizontal_flip=True, \n",
    "                        vertical_flip=True) \n",
    "\n",
    "datagen.fit(X_train)\n",
    "\n",
    "hist = model.fit_generator(datagen.flow(X_train, Y_train, batch_size=BATCH_SIZE),\n",
    "               steps_per_epoch=X_train.shape[0] // BATCH_SIZE,\n",
    "               epochs=EPOCHS,\n",
    "               verbose=2,\n",
    "               callbacks=[annealer, checkpoint],\n",
    "               validation_data=(X_test, Y_test))"
   ]
  },
  {
   "cell_type": "code",
   "execution_count": null,
   "metadata": {
    "colab": {
     "base_uri": "https://localhost:8080/"
    },
    "executionInfo": {
     "elapsed": 1446,
     "status": "ok",
     "timestamp": 1621445896459,
     "user": {
      "displayName": "KLRS Biomedical",
      "photoUrl": "",
      "userId": "13462190752636494514"
     },
     "user_tz": -330
    },
    "id": "rL-uJH_eIGcr",
    "outputId": "7b790ac0-1f9e-48ad-d8c3-fc773dbac103"
   },
   "outputs": [
    {
     "name": "stdout",
     "output_type": "stream",
     "text": [
      "16/16 [==============================] - 1s 43ms/step - loss: 0.2182 - accuracy: 0.9276\n",
      "*************************\n",
      "Loss: 0.21823519468307495, Accuracy:0.9275653958320618\n"
     ]
    }
   ],
   "source": [
    "final_loss, final_acc = model.evaluate(X_test, Y_test)\n",
    "print(\"*************************\")\n",
    "print('Loss: {}, Accuracy:{}'.format(final_loss, final_acc))"
   ]
  },
  {
   "cell_type": "markdown",
   "metadata": {
    "id": "3MN7jpUqKx30"
   },
   "source": [
    "Predicting the test images"
   ]
  },
  {
   "cell_type": "code",
   "execution_count": null,
   "metadata": {
    "colab": {
     "base_uri": "https://localhost:8080/",
     "height": 407
    },
    "executionInfo": {
     "elapsed": 2663,
     "status": "ok",
     "timestamp": 1621445970230,
     "user": {
      "displayName": "KLRS Biomedical",
      "photoUrl": "",
      "userId": "13462190752636494514"
     },
     "user_tz": -330
    },
    "id": "cCDHPc3CIM0r",
    "outputId": "d23bf771-41f1-4031-b46e-85eb1dee883c"
   },
   "outputs": [
    {
     "data": {
      "image/png": "[encoded data removed]",
      "text/plain": [
       "<Figure size 432x432 with 1 Axes>"
      ]
     },
     "metadata": {
      "needs_background": "light",
      "tags": []
     },
     "output_type": "display_data"
    }
   ],
   "source": [
    "Y_predict = model.predict(X_test)\n",
    "Y_predict = np.argmax(Y_predict, axis= 1)\n",
    "Y_true = np.argmax(Y_test, axis=1)\n",
    "\n",
    "cm = confusion_matrix(Y_true, Y_predict)\n",
    "plt.figure(figsize=(6,6))\n",
    "\n",
    "ax= sns.heatmap(cm, cmap=plt.cm.Blues, annot=True,fmt='d',annot_kws={\"size\": 25},cbar=False, square=True, xticklabels=type_of_disease,yticklabels=type_of_disease)\n",
    "ax.set_ylabel('Actual', fontsize=30)\n",
    "ax.set_xlabel('Predicted', fontsize=30)\n",
    "plt.savefig('Confusion matrix_inceptionV3.svg', format='svg', dpi=1200)"
   ]
  },
  {
   "cell_type": "markdown",
   "metadata": {
    "id": "cB89PeHBK4Rl"
   },
   "source": [
    "Accuracy and Loss plot"
   ]
  },
  {
   "cell_type": "code",
   "execution_count": null,
   "metadata": {
    "colab": {
     "base_uri": "https://localhost:8080/",
     "height": 573
    },
    "executionInfo": {
     "elapsed": 1753,
     "status": "ok",
     "timestamp": 1621446099741,
     "user": {
      "displayName": "KLRS Biomedical",
      "photoUrl": "",
      "userId": "13462190752636494514"
     },
     "user_tz": -330
    },
    "id": "1r1GFoywIY-b",
    "outputId": "24aa7527-bb8d-4b3b-ce2f-a189c1dc1bd5"
   },
   "outputs": [
    {
     "data": {
      "image/png": "[encoded data removed]",
      "text/plain": [
       "<Figure size 432x288 with 1 Axes>"
      ]
     },
     "metadata": {
      "needs_background": "light",
      "tags": []
     },
     "output_type": "display_data"
    },
    {
     "data": {
      "image/png": "[encoded data removed]",
      "text/plain": [
       "<Figure size 432x288 with 1 Axes>"
      ]
     },
     "metadata": {
      "needs_background": "light",
      "tags": []
     },
     "output_type": "display_data"
    }
   ],
   "source": [
    "plt.plot(hist.history['accuracy'])\n",
    "plt.plot(hist.history['val_accuracy'])\n",
    "plt.xlim(0,30)\n",
    "plt.ylim(0,1)\n",
    "plt.title('Accuracy')\n",
    "plt.ylabel('Accuracy')\n",
    "plt.xlabel('Epoch')\n",
    "plt.legend(['train','test'], loc='lower right')\n",
    "plt.savefig('Accuracy plot_inceptionV3.svg', format='svg', dpi=1200)\n",
    "plt.show()\n",
    "\n",
    "plt.plot(hist.history['loss'])\n",
    "plt.plot(hist.history['val_loss'])\n",
    "plt.xlim(0,30)\n",
    "plt.ylim(0,5)\n",
    "plt.title('Model loss')\n",
    "plt.ylabel('Loss')\n",
    "plt.xlabel('Epoch')\n",
    "plt.legend(['train','test'], loc='upper right')\n",
    "plt.savefig('Model loss plot_inceptionV3.svg', format='svg', dpi=1200)\n",
    "plt.show()"
   ]
  },
  {
   "cell_type": "code",
   "execution_count": null,
   "metadata": {
    "id": "A9Dd9iQwGKdz"
   },
   "outputs": [],
   "source": [
    "def confusion_metrics (conf_matrix):\n",
    "\n",
    "    TP = conf_matrix[1][1]\n",
    "    TN = conf_matrix[0][0]\n",
    "    FP = conf_matrix[0][1]\n",
    "    FN = conf_matrix[1][0]\n",
    "    print('True Positives:', TP)\n",
    "    print('True Negatives:', TN)\n",
    "    print('False Positives:', FP)\n",
    "    print('False Negatives:', FN)\n",
    "    \n",
    "    #accuracy\n",
    "    conf_accuracy = (float (TP+TN) / float(TP + TN + FP + FN))\n",
    "    \n",
    "    #mis-classification\n",
    "    conf_misclassification = 1- conf_accuracy\n",
    "    \n",
    "    #sensitivity\n",
    "    conf_sensitivity = (TP / float(TP + FN))\n",
    "\n",
    "    #specificity\n",
    "    conf_specificity = (TN / float(TN + FP))\n",
    "    \n",
    "    #precision\n",
    "    conf_precision = (TN / float(TN + FP))\n",
    "\n",
    "    # f1 score\n",
    "    conf_f1 = 2 * ((conf_precision * conf_sensitivity) / (conf_precision + conf_sensitivity))\n",
    "    print('-'*50)\n",
    "\n",
    "    print(f'Accuracy: {round(conf_accuracy,2)}') \n",
    "    print(f'Mis-Classification: {round(conf_misclassification,2)}') \n",
    "    print(f'Sensitivity: {round(conf_sensitivity,2)}') \n",
    "    print(f'Specificity: {round(conf_specificity,2)}') \n",
    "    print(f'Precision: {round(conf_precision,2)}')\n",
    "    print(f'f1 Score: {round(conf_f1,2)}')"
   ]
  },
  {
   "cell_type": "code",
   "execution_count": null,
   "metadata": {
    "colab": {
     "base_uri": "https://localhost:8080/"
    },
    "executionInfo": {
     "elapsed": 821,
     "status": "ok",
     "timestamp": 1621446599014,
     "user": {
      "displayName": "KLRS Biomedical",
      "photoUrl": "",
      "userId": "13462190752636494514"
     },
     "user_tz": -330
    },
    "id": "cZgvb1fhp7uH",
    "outputId": "9a08737d-eed1-4cf2-f0fd-8680e22c25b2"
   },
   "outputs": [
    {
     "name": "stdout",
     "output_type": "stream",
     "text": [
      "True Positives: 204\n",
      "True Negatives: 257\n",
      "False Positives: 17\n",
      "False Negatives: 19\n",
      "--------------------------------------------------\n",
      "Accuracy: 0.93\n",
      "Mis-Classification: 0.07\n",
      "Sensitivity: 0.91\n",
      "Specificity: 0.94\n",
      "Precision: 0.94\n",
      "f1 Score: 0.93\n",
      "None\n"
     ]
    }
   ],
   "source": [
    "metrics = confusion_metrics(cm)\n",
    "print(metrics)"
   ]
  }
 ],
 "metadata": {
  "accelerator": "GPU",
  "colab": {
   "authorship_tag": "ABX9TyObIEeNfexPN0fD4FSmn08H",
   "collapsed_sections": [],
   "mount_file_id": "1XCHNReriqjT-sgT1I_0R4kX1_uG5o7HY",
   "name": "Inception V3_model.ipynb",
   "provenance": []
  },
  "kernelspec": {
   "display_name": "Python 3",
   "language": "python",
   "name": "python3"
  },
  "language_info": {
   "codemirror_mode": {
    "name": "ipython",
    "version": 3
   },
   "file_extension": ".py",
   "mimetype": "text/x-python",
   "name": "python",
   "nbconvert_exporter": "python",
   "pygments_lexer": "ipython3",
   "version": "3.7.10"
  }
 },
 "nbformat": 4,
 "nbformat_minor": 1
}
