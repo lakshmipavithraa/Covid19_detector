{
 "cells": [
  {
   "cell_type": "markdown",
   "metadata": {},
   "source": [
    "# Ensemble classifier"
   ]
  },
  {
   "cell_type": "code",
   "execution_count": 4,
   "metadata": {
    "executionInfo": {
     "elapsed": 1612,
     "status": "ok",
     "timestamp": 1621662002609,
     "user": {
      "displayName": "KLRS Biomedical",
      "photoUrl": "",
      "userId": "13462190752636494514"
     },
     "user_tz": -330
    },
    "id": "uH000j_t0eB3"
   },
   "outputs": [],
   "source": [
    "import numpy as np \n",
    "import pandas as pd \n",
    "import matplotlib.pyplot as plt\n",
    "import seaborn as sns\n",
    "\n",
    "import os\n",
    "\n",
    "import cv2\n",
    "from tqdm import tqdm\n",
    "\n",
    "from sklearn.metrics import confusion_matrix\n",
    "from sklearn.model_selection import train_test_split\n",
    "\n",
    "from tensorflow import keras\n",
    "from keras.utils.np_utils import to_categorical\n"
   ]
  },
  {
   "cell_type": "markdown",
   "metadata": {
    "id": "wOsqLyqvJErM"
   },
   "source": [
    "Mounting the Google Drive"
   ]
  },
  {
   "cell_type": "code",
   "execution_count": null,
   "metadata": {
    "colab": {
     "base_uri": "https://localhost:8080/"
    },
    "executionInfo": {
     "elapsed": 1244,
     "status": "ok",
     "timestamp": 1621075028410,
     "user": {
      "displayName": "KLRS Biomedical",
      "photoUrl": "",
      "userId": "13462190752636494514"
     },
     "user_tz": -330
    },
    "id": "_thLwEKx08Jc",
    "outputId": "421f7443-4442-419a-bea5-1f55bd0f5400"
   },
   "outputs": [
    {
     "name": "stdout",
     "output_type": "stream",
     "text": [
      "Drive already mounted at /content/drive; to attempt to forcibly remount, call drive.mount(\"/content/drive\", force_remount=True).\n"
     ]
    }
   ],
   "source": [
    "from google.colab import drive\n",
    "drive.mount('/content/drive')"
   ]
  },
  {
   "cell_type": "markdown",
   "metadata": {
    "id": "HBPbW4xtJK_r"
   },
   "source": [
    "Importing the dataset to local environment"
   ]
  },
  {
   "cell_type": "code",
   "execution_count": 5,
   "metadata": {
    "colab": {
     "base_uri": "https://localhost:8080/"
    },
    "executionInfo": {
     "elapsed": 16656,
     "status": "ok",
     "timestamp": 1621662027967,
     "user": {
      "displayName": "KLRS Biomedical",
      "photoUrl": "",
      "userId": "13462190752636494514"
     },
     "user_tz": -330
    },
    "id": "XDSggDit1Fuj",
    "outputId": "2aecb360-5378-43c0-c394-85210344f61c"
   },
   "outputs": [
    {
     "name": "stdout",
     "output_type": "stream",
     "text": [
      "Reading package lists... Done\n",
      "Building dependency tree       \n",
      "Reading state information... Done\n",
      "p7zip-full is already the newest version (16.02+dfsg-6).\n",
      "The following package was automatically installed and is no longer required:\n",
      "  libnvidia-common-460\n",
      "Use 'apt autoremove' to remove it.\n",
      "0 upgraded, 0 newly installed, 0 to remove and 34 not upgraded.\n",
      "\n",
      "7-Zip (a) [64] 16.02 : Copyright (c) 1999-2016 Igor Pavlov : 2016-05-21\n",
      "p7zip Version 16.02 (locale=en_US.UTF-8,Utf16=on,HugeFiles=on,64 bits,2 CPUs Intel(R) Xeon(R) CPU @ 2.20GHz (406F0),ASM,AES-NI)\n",
      "\n",
      "Scanning the drive for archives:\n",
      "  0M Scan /content/drive/MyDrive/\b\b\b\b\b\b\b\b\b\b\b\b\b\b\b\b\b\b\b\b\b\b\b\b\b\b\b\b\b\b\b\b\b                                 \b\b\b\b\b\b\b\b\b\b\b\b\b\b\b\b\b\b\b\b\b\b\b\b\b\b\b\b\b\b\b\b\b1 folder, 1 file, 241675852 bytes (231 MiB)\n",
      "\n",
      "Extracting archive: /content/drive/MyDrive/Datasetzip/Datastcn.zip\n",
      "--\n",
      "Path = /content/drive/MyDrive/Datasetzip/Datastcn.zip\n",
      "Type = zip\n",
      "Physical Size = 241675852\n",
      "\n",
      "  0%\b\b\b\b    \b\b\b\b\n",
      "Would you like to replace the existing file:\n",
      "  Path:     ./Datastcn/datasetcn/COVID/Covid (1).png\n",
      "  Size:     64780 bytes (64 KiB)\n",
      "  Modified: 2021-02-24 13:44:00\n",
      "with the file from archive:\n",
      "  Path:     Datastcn/datasetcn/COVID/Covid (1).png\n",
      "  Size:     64780 bytes (64 KiB)\n",
      "  Modified: 2021-02-24 13:44:00\n",
      "? (Y)es / (N)o / (A)lways / (S)kip all / A(u)to rename all / (Q)uit? "
     ]
    }
   ],
   "source": [
    "!apt-get install p7zip-full\n",
    "!7za x '/content/drive/MyDrive/Datasetzip'"
   ]
  },
  {
   "cell_type": "markdown",
   "metadata": {
    "id": "tXlPLeOxJW7O"
   },
   "source": [
    "Creating a dataframe"
   ]
  },
  {
   "cell_type": "code",
   "execution_count": 6,
   "metadata": {
    "colab": {
     "base_uri": "https://localhost:8080/",
     "height": 206
    },
    "executionInfo": {
     "elapsed": 15,
     "status": "ok",
     "timestamp": 1621662027969,
     "user": {
      "displayName": "KLRS Biomedical",
      "photoUrl": "",
      "userId": "13462190752636494514"
     },
     "user_tz": -330
    },
    "id": "bLxCDEMn1Jwm",
    "outputId": "df5d280d-ecf3-4777-c5c9-08f59ae3821f"
   },
   "outputs": [
    {
     "data": {
      "text/html": [
       "<div>\n",
       "<style scoped>\n",
       "    .dataframe tbody tr th:only-of-type {\n",
       "        vertical-align: middle;\n",
       "    }\n",
       "\n",
       "    .dataframe tbody tr th {\n",
       "        vertical-align: top;\n",
       "    }\n",
       "\n",
       "    .dataframe thead th {\n",
       "        text-align: right;\n",
       "    }\n",
       "</style>\n",
       "<table border=\"1\" class=\"dataframe\">\n",
       "  <thead>\n",
       "    <tr style=\"text-align: right;\">\n",
       "      <th></th>\n",
       "      <th>Image</th>\n",
       "      <th>Class ID</th>\n",
       "      <th>Type of Disease</th>\n",
       "    </tr>\n",
       "  </thead>\n",
       "  <tbody>\n",
       "    <tr>\n",
       "      <th>0</th>\n",
       "      <td>COVID/Covid (530).png</td>\n",
       "      <td>0</td>\n",
       "      <td>COVID</td>\n",
       "    </tr>\n",
       "    <tr>\n",
       "      <th>1</th>\n",
       "      <td>COVID/Covid (242).png</td>\n",
       "      <td>0</td>\n",
       "      <td>COVID</td>\n",
       "    </tr>\n",
       "    <tr>\n",
       "      <th>2</th>\n",
       "      <td>COVID/Covid (930).png</td>\n",
       "      <td>0</td>\n",
       "      <td>COVID</td>\n",
       "    </tr>\n",
       "    <tr>\n",
       "      <th>3</th>\n",
       "      <td>COVID/Covid (181).png</td>\n",
       "      <td>0</td>\n",
       "      <td>COVID</td>\n",
       "    </tr>\n",
       "    <tr>\n",
       "      <th>4</th>\n",
       "      <td>COVID/Covid (138).png</td>\n",
       "      <td>0</td>\n",
       "      <td>COVID</td>\n",
       "    </tr>\n",
       "  </tbody>\n",
       "</table>\n",
       "</div>"
      ],
      "text/plain": [
       "                   Image  Class ID Type of Disease\n",
       "0  COVID/Covid (530).png         0           COVID\n",
       "1  COVID/Covid (242).png         0           COVID\n",
       "2  COVID/Covid (930).png         0           COVID\n",
       "3  COVID/Covid (181).png         0           COVID\n",
       "4  COVID/Covid (138).png         0           COVID"
      ]
     },
     "execution_count": 6,
     "metadata": {
      "tags": []
     },
     "output_type": "execute_result"
    }
   ],
   "source": [
    "data_train = []\n",
    "type_of_disease =['COVID', 'non-COVID']\n",
    "data_directory = '/content/Datastcn/datasetcn'\n",
    "train_directory = os.path.join(data_directory)\n",
    "\n",
    "for id, td in enumerate(type_of_disease):\n",
    "    for file in os.listdir(os.path.join(train_directory, td)):\n",
    "        data_train.append(['{}/{}'.format(td, file), id, td])\n",
    "        \n",
    "train = pd.DataFrame(data_train, columns=['Image', 'Class ID','Type of Disease'])\n",
    "train.head()"
   ]
  },
  {
   "cell_type": "code",
   "execution_count": 7,
   "metadata": {
    "colab": {
     "base_uri": "https://localhost:8080/",
     "height": 206
    },
    "executionInfo": {
     "elapsed": 425,
     "status": "ok",
     "timestamp": 1621662036575,
     "user": {
      "displayName": "KLRS Biomedical",
      "photoUrl": "",
      "userId": "13462190752636494514"
     },
     "user_tz": -330
    },
    "id": "KBO2eA8z3_nE",
    "outputId": "60679dde-b8a0-4f06-8150-d7cc43fc2acf"
   },
   "outputs": [
    {
     "data": {
      "text/html": [
       "<div>\n",
       "<style scoped>\n",
       "    .dataframe tbody tr th:only-of-type {\n",
       "        vertical-align: middle;\n",
       "    }\n",
       "\n",
       "    .dataframe tbody tr th {\n",
       "        vertical-align: top;\n",
       "    }\n",
       "\n",
       "    .dataframe thead th {\n",
       "        text-align: right;\n",
       "    }\n",
       "</style>\n",
       "<table border=\"1\" class=\"dataframe\">\n",
       "  <thead>\n",
       "    <tr style=\"text-align: right;\">\n",
       "      <th></th>\n",
       "      <th>Image</th>\n",
       "      <th>Class ID</th>\n",
       "      <th>Type of Disease</th>\n",
       "    </tr>\n",
       "  </thead>\n",
       "  <tbody>\n",
       "    <tr>\n",
       "      <th>0</th>\n",
       "      <td>COVID/Covid (327).png</td>\n",
       "      <td>0</td>\n",
       "      <td>COVID</td>\n",
       "    </tr>\n",
       "    <tr>\n",
       "      <th>1</th>\n",
       "      <td>COVID/Covid (813).png</td>\n",
       "      <td>0</td>\n",
       "      <td>COVID</td>\n",
       "    </tr>\n",
       "    <tr>\n",
       "      <th>2</th>\n",
       "      <td>non-COVID/Non-Covid (698).png</td>\n",
       "      <td>1</td>\n",
       "      <td>non-COVID</td>\n",
       "    </tr>\n",
       "    <tr>\n",
       "      <th>3</th>\n",
       "      <td>non-COVID/Non-Covid (653).png</td>\n",
       "      <td>1</td>\n",
       "      <td>non-COVID</td>\n",
       "    </tr>\n",
       "    <tr>\n",
       "      <th>4</th>\n",
       "      <td>COVID/Covid (329).png</td>\n",
       "      <td>0</td>\n",
       "      <td>COVID</td>\n",
       "    </tr>\n",
       "  </tbody>\n",
       "</table>\n",
       "</div>"
      ],
      "text/plain": [
       "                           Image  Class ID Type of Disease\n",
       "0          COVID/Covid (327).png         0           COVID\n",
       "1          COVID/Covid (813).png         0           COVID\n",
       "2  non-COVID/Non-Covid (698).png         1       non-COVID\n",
       "3  non-COVID/Non-Covid (653).png         1       non-COVID\n",
       "4          COVID/Covid (329).png         0           COVID"
      ]
     },
     "execution_count": 7,
     "metadata": {
      "tags": []
     },
     "output_type": "execute_result"
    }
   ],
   "source": [
    "SEED = 42\n",
    "train = train.sample(frac=1, random_state=SEED)\n",
    "train.index = np.arange(len(train))\n",
    "train.head()"
   ]
  },
  {
   "cell_type": "code",
   "execution_count": 8,
   "metadata": {
    "executionInfo": {
     "elapsed": 8,
     "status": "ok",
     "timestamp": 1621662038639,
     "user": {
      "displayName": "KLRS Biomedical",
      "photoUrl": "",
      "userId": "13462190752636494514"
     },
     "user_tz": -330
    },
    "id": "8Ucr4quE8jy7"
   },
   "outputs": [],
   "source": [
    "SIZE_OF_IMAGE_D = 64\n",
    "def read_image(imagepath):\n",
    "    return cv2.imread(os.path.join(data_directory, imagepath))\n",
    "\n",
    "def resize_image(image, image_Size):\n",
    "    return cv2.resize(image.copy(), image_Size, interpolation=cv2.INTER_AREA)"
   ]
  },
  {
   "cell_type": "code",
   "execution_count": 9,
   "metadata": {
    "colab": {
     "base_uri": "https://localhost:8080/"
    },
    "executionInfo": {
     "elapsed": 8001,
     "status": "ok",
     "timestamp": 1621662050091,
     "user": {
      "displayName": "KLRS Biomedical",
      "photoUrl": "",
      "userId": "13462190752636494514"
     },
     "user_tz": -330
    },
    "id": "amh2J0at8vs6",
    "outputId": "e655adda-3920-4615-e52f-4c1d35e54271"
   },
   "outputs": [
    {
     "name": "stderr",
     "output_type": "stream",
     "text": [
      "2481it [00:07, 329.01it/s]"
     ]
    },
    {
     "name": "stdout",
     "output_type": "stream",
     "text": [
      "Train shape: (2481, 64, 64, 3)\n"
     ]
    },
    {
     "name": "stderr",
     "output_type": "stream",
     "text": [
      "\n"
     ]
    }
   ],
   "source": [
    "x_train_D = np.zeros((train.shape[0], SIZE_OF_IMAGE_D, SIZE_OF_IMAGE_D, 3))\n",
    "\n",
    "for i, file in tqdm(enumerate(train['Image'].values)):\n",
    "    image = read_image(file)\n",
    "    \n",
    "    if image is not None:\n",
    "        x_train_D[i] = resize_image(image,(SIZE_OF_IMAGE_D, SIZE_OF_IMAGE_D))\n",
    "        \n",
    "X_Train_D = x_train_D / 255\n",
    "\n",
    "print('Train shape: {}'.format(X_Train_D.shape))"
   ]
  },
  {
   "cell_type": "code",
   "execution_count": 10,
   "metadata": {
    "executionInfo": {
     "elapsed": 8,
     "status": "ok",
     "timestamp": 1621662051516,
     "user": {
      "displayName": "KLRS Biomedical",
      "photoUrl": "",
      "userId": "13462190752636494514"
     },
     "user_tz": -330
    },
    "id": "uLtl0RVl89V7"
   },
   "outputs": [],
   "source": [
    "y_train_D = train['Class ID'].values\n",
    "y_train_D = to_categorical(y_train_D, num_classes=2)"
   ]
  },
  {
   "cell_type": "code",
   "execution_count": 11,
   "metadata": {
    "executionInfo": {
     "elapsed": 473,
     "status": "ok",
     "timestamp": 1621662054030,
     "user": {
      "displayName": "KLRS Biomedical",
      "photoUrl": "",
      "userId": "13462190752636494514"
     },
     "user_tz": -330
    },
    "id": "sVq11LAYAPTc"
   },
   "outputs": [],
   "source": [
    "BATCH_SIZE = 64\n",
    "\n",
    "X_train_D, X_test_D, Y_train_D, Y_test_D = train_test_split(X_Train_D,y_train_D, test_size=0.2, random_state=SEED)"
   ]
  },
  {
   "cell_type": "code",
   "execution_count": 12,
   "metadata": {
    "executionInfo": {
     "elapsed": 10862,
     "status": "ok",
     "timestamp": 1621662067698,
     "user": {
      "displayName": "KLRS Biomedical",
      "photoUrl": "",
      "userId": "13462190752636494514"
     },
     "user_tz": -330
    },
    "id": "CIIO_1mo-Pw5"
   },
   "outputs": [],
   "source": [
    "densenet =  keras.models.load_model('/content/drive/MyDrive/Colab Notebooks/densenet2105_best.h5')"
   ]
  },
  {
   "cell_type": "code",
   "execution_count": null,
   "metadata": {
    "colab": {
     "base_uri": "https://localhost:8080/"
    },
    "executionInfo": {
     "elapsed": 2135,
     "status": "ok",
     "timestamp": 1620723274365,
     "user": {
      "displayName": "KLRS Biomedical",
      "photoUrl": "",
      "userId": "13462190752636494514"
     },
     "user_tz": -330
    },
    "id": "rL-uJH_eIGcr",
    "outputId": "21e76c26-90c4-496d-90cd-b2ca61f7768c"
   },
   "outputs": [
    {
     "name": "stdout",
     "output_type": "stream",
     "text": [
      "16/16 [==============================] - 1s 50ms/step - loss: 0.4469 - accuracy: 0.8712\n",
      "*************************\n",
      "Loss: 0.44686806201934814, Accuracy:0.8712273836135864\n"
     ]
    }
   ],
   "source": [
    "final_loss, final_acc = model.evaluate(X_test, Y_test)\n",
    "print(\"*************************\")\n",
    "print('Loss: {}, Accuracy:{}'.format(final_loss, final_acc))"
   ]
  },
  {
   "cell_type": "code",
   "execution_count": 13,
   "metadata": {
    "colab": {
     "base_uri": "https://localhost:8080/",
     "height": 407
    },
    "executionInfo": {
     "elapsed": 36008,
     "status": "ok",
     "timestamp": 1621662168880,
     "user": {
      "displayName": "KLRS Biomedical",
      "photoUrl": "",
      "userId": "13462190752636494514"
     },
     "user_tz": -330
    },
    "id": "cCDHPc3CIM0r",
    "outputId": "8e70db60-9926-4489-d601-46365bf23ed1"
   },
   "outputs": [
    {
     "data": {
      "image/png": "[encoded data removed]",
      "text/plain": [
       "<Figure size 432x432 with 1 Axes>"
      ]
     },
     "metadata": {
      "needs_background": "light",
      "tags": []
     },
     "output_type": "display_data"
    }
   ],
   "source": [
    "Y_predict_densenet = densenet.predict(X_test_D)\n",
    "Y_predict_densenet = np.argmax(Y_predict_densenet, axis= 1)\n",
    "Y_true = np.argmax(Y_test_D, axis=1)\n",
    "\n",
    "\n",
    "# convert array into dataframe\n",
    "DF = pd.DataFrame(Y_predict_densenet,columns=['DenseNet121 Prediction'])\n",
    "\n",
    "# save the dataframe as a csv file\n",
    "DF.to_csv(\"densenet.csv\",index=False)\n",
    "\n",
    "\n",
    "cm_densenet = confusion_matrix(Y_true, Y_predict_densenet)\n",
    "plt.figure(figsize=(6,6))\n",
    "ax= sns.heatmap(cm_densenet, cmap=plt.cm.Blues, annot=True,fmt='d',annot_kws={\"size\": 25},cbar=False, square=True, xticklabels=type_of_disease,yticklabels=type_of_disease)\n",
    "ax.set_ylabel('Actual', fontsize=30)\n",
    "ax.set_xlabel('Predicted', fontsize=30)\n",
    "plt.savefig('Confusion matrix_densenet_df.svg', format='svg', dpi=1200)"
   ]
  },
  {
   "cell_type": "code",
   "execution_count": 14,
   "metadata": {
    "executionInfo": {
     "elapsed": 2736,
     "status": "ok",
     "timestamp": 1621662274556,
     "user": {
      "displayName": "KLRS Biomedical",
      "photoUrl": "",
      "userId": "13462190752636494514"
     },
     "user_tz": -330
    },
    "id": "JDfwI1uDwMCr"
   },
   "outputs": [],
   "source": [
    "Y_predict_densenet = densenet.predict(X_train_D)\n",
    "Y_predict_densenet = np.argmax(Y_predict_densenet, axis= 1)\n",
    "Y_true = np.argmax(Y_train_D, axis=1)\n",
    "\n",
    "\n",
    "# convert array into dataframe\n",
    "DF = pd.DataFrame(Y_predict_densenet,columns=['DenseNet121 Prediction'])\n",
    "\n",
    "# save the dataframe as a csv file\n",
    "DF.to_csv(\"densenet training data.csv\",index=False)\n"
   ]
  },
  {
   "cell_type": "code",
   "execution_count": 17,
   "metadata": {
    "colab": {
     "base_uri": "https://localhost:8080/"
    },
    "executionInfo": {
     "elapsed": 725,
     "status": "ok",
     "timestamp": 1621662331488,
     "user": {
      "displayName": "KLRS Biomedical",
      "photoUrl": "",
      "userId": "13462190752636494514"
     },
     "user_tz": -330
    },
    "id": "CmJ1cCzF_HZ7",
    "outputId": "21a797b7-bc93-4527-b6b1-31c94195a703"
   },
   "outputs": [
    {
     "name": "stdout",
     "output_type": "stream",
     "text": [
      "True Positives: 216\n",
      "True Negatives: 252\n",
      "False Positives: 22\n",
      "False Negatives: 7\n",
      "--------------------------------------------------\n",
      "Accuracy: 0.94\n",
      "Mis-Classification: 0.06\n",
      "Sensitivity: 0.97\n",
      "Specificity: 0.92\n",
      "Precision: 0.92\n",
      "f1 Score: 0.94\n",
      "None\n"
     ]
    }
   ],
   "source": [
    "metrics_densenet = confusion_metrics(cm_densenet)\n",
    "print(metrics_densenet)"
   ]
  },
  {
   "cell_type": "code",
   "execution_count": 18,
   "metadata": {
    "executionInfo": {
     "elapsed": 2673,
     "status": "ok",
     "timestamp": 1621662342950,
     "user": {
      "displayName": "KLRS Biomedical",
      "photoUrl": "",
      "userId": "13462190752636494514"
     },
     "user_tz": -330
    },
    "id": "a5Lz0nHM-61s"
   },
   "outputs": [],
   "source": [
    "mobilenet =  keras.models.load_model('/content/drive/MyDrive/Colab Notebooks/mobilenet1505.h5')"
   ]
  },
  {
   "cell_type": "code",
   "execution_count": 19,
   "metadata": {
    "executionInfo": {
     "elapsed": 417,
     "status": "ok",
     "timestamp": 1621662346227,
     "user": {
      "displayName": "KLRS Biomedical",
      "photoUrl": "",
      "userId": "13462190752636494514"
     },
     "user_tz": -330
    },
    "id": "UNJYxvIB_dN1"
   },
   "outputs": [],
   "source": [
    "SIZE_OF_IMAGE_M = 150\n",
    "def read_image(imagepath):\n",
    "    return cv2.imread(os.path.join(data_directory, imagepath))\n",
    "\n",
    "def resize_image(image, image_Size):\n",
    "    return cv2.resize(image.copy(), image_Size, interpolation=cv2.INTER_AREA)"
   ]
  },
  {
   "cell_type": "code",
   "execution_count": 20,
   "metadata": {
    "colab": {
     "base_uri": "https://localhost:8080/"
    },
    "executionInfo": {
     "elapsed": 9643,
     "status": "ok",
     "timestamp": 1621662358112,
     "user": {
      "displayName": "KLRS Biomedical",
      "photoUrl": "",
      "userId": "13462190752636494514"
     },
     "user_tz": -330
    },
    "id": "EHNyhwo2_jxk",
    "outputId": "65c04f58-946a-4e53-a894-252cae39d2b0"
   },
   "outputs": [
    {
     "name": "stderr",
     "output_type": "stream",
     "text": [
      "2481it [00:08, 285.17it/s]\n"
     ]
    },
    {
     "name": "stdout",
     "output_type": "stream",
     "text": [
      "Train shape: (2481, 150, 150, 3)\n"
     ]
    }
   ],
   "source": [
    "x_train_M = np.zeros((train.shape[0], SIZE_OF_IMAGE_M, SIZE_OF_IMAGE_M, 3))\n",
    "\n",
    "for i, file in tqdm(enumerate(train['Image'].values)):\n",
    "    image = read_image(file)\n",
    "    \n",
    "    if image is not None:\n",
    "        x_train_M[i] = resize_image(image,(SIZE_OF_IMAGE_M, SIZE_OF_IMAGE_M))\n",
    "        \n",
    "X_Train_M = x_train_M / 255\n",
    "\n",
    "print('Train shape: {}'.format(X_Train_M.shape))"
   ]
  },
  {
   "cell_type": "code",
   "execution_count": 21,
   "metadata": {
    "executionInfo": {
     "elapsed": 9,
     "status": "ok",
     "timestamp": 1621662359369,
     "user": {
      "displayName": "KLRS Biomedical",
      "photoUrl": "",
      "userId": "13462190752636494514"
     },
     "user_tz": -330
    },
    "id": "miHwj5qO_5dh"
   },
   "outputs": [],
   "source": [
    "y_train_M = train['Class ID'].values\n",
    "y_train_M = to_categorical(y_train_M, num_classes=2)"
   ]
  },
  {
   "cell_type": "code",
   "execution_count": 22,
   "metadata": {
    "executionInfo": {
     "elapsed": 1218,
     "status": "ok",
     "timestamp": 1621662360580,
     "user": {
      "displayName": "KLRS Biomedical",
      "photoUrl": "",
      "userId": "13462190752636494514"
     },
     "user_tz": -330
    },
    "id": "ZM1X9f9y__nC"
   },
   "outputs": [],
   "source": [
    "BATCH_SIZE = 64\n",
    "\n",
    "X_train_M, X_test_M, Y_train_M, Y_test_M = train_test_split(X_Train_M,y_train_M, test_size=0.2, random_state=SEED)"
   ]
  },
  {
   "cell_type": "code",
   "execution_count": 23,
   "metadata": {
    "executionInfo": {
     "elapsed": 2674,
     "status": "ok",
     "timestamp": 1621662369577,
     "user": {
      "displayName": "KLRS Biomedical",
      "photoUrl": "",
      "userId": "13462190752636494514"
     },
     "user_tz": -330
    },
    "id": "byWEtIJLwu5r"
   },
   "outputs": [],
   "source": [
    "Y_predict_mobilenet = mobilenet.predict(X_train_M)\n",
    "Y_predict_mobilenet = np.argmax(Y_predict_mobilenet, axis= 1)\n",
    "Y_true = np.argmax(Y_train_M, axis=1)\n",
    "\n",
    "\n",
    "# convert array into dataframe\n",
    "DF = pd.DataFrame(Y_predict_mobilenet,columns=['MobileNet Prediction'])\n",
    "\n",
    "# save the dataframe as a csv file\n",
    "DF.to_csv(\"mobilenet training data.csv\",index=False)"
   ]
  },
  {
   "cell_type": "code",
   "execution_count": 28,
   "metadata": {
    "colab": {
     "base_uri": "https://localhost:8080/",
     "height": 407
    },
    "executionInfo": {
     "elapsed": 2474,
     "status": "ok",
     "timestamp": 1621662572943,
     "user": {
      "displayName": "KLRS Biomedical",
      "photoUrl": "",
      "userId": "13462190752636494514"
     },
     "user_tz": -330
    },
    "id": "onTIWBVM_Dod",
    "outputId": "e3202aa5-ae02-4327-da16-e2ef4a01ce14"
   },
   "outputs": [
    {
     "data": {
      "image/png": "[encoded data removed]",
      "text/plain": [
       "<Figure size 432x432 with 1 Axes>"
      ]
     },
     "metadata": {
      "needs_background": "light",
      "tags": []
     },
     "output_type": "display_data"
    }
   ],
   "source": [
    "Y_predict_mobilenet = mobilenet.predict(X_test_M)\n",
    "Y_predict_mobilenet = np.argmax(Y_predict_mobilenet, axis= 1)\n",
    "Y_true = np.argmax(Y_test_M, axis=1)\n",
    "\n",
    "cm_mobilenet = confusion_matrix(Y_true, Y_predict_mobilenet)\n",
    "plt.figure(figsize=(6,6))\n",
    "\n",
    "ax= sns.heatmap(cm_mobilenet, cmap=plt.cm.Blues, annot=True,fmt='d',annot_kws={\"size\": 25},cbar=False, square=True, xticklabels=type_of_disease,yticklabels=type_of_disease)\n",
    "ax.set_ylabel('Actual', fontsize=30)\n",
    "ax.set_xlabel('Predicted', fontsize=30)\n",
    "plt.savefig('Confusion matrix_mobilenet_df.svg', format='svg', dpi=1200)"
   ]
  },
  {
   "cell_type": "code",
   "execution_count": 29,
   "metadata": {
    "executionInfo": {
     "elapsed": 1363,
     "status": "ok",
     "timestamp": 1621662639016,
     "user": {
      "displayName": "KLRS Biomedical",
      "photoUrl": "",
      "userId": "13462190752636494514"
     },
     "user_tz": -330
    },
    "id": "Lj_6MQD6_t65"
   },
   "outputs": [],
   "source": [
    "# convert array into dataframe\n",
    "DF_M = pd.DataFrame(Y_predict_mobilenet,columns=['MobileNet Prediction'])\n",
    "\n",
    "# save the dataframe as a csv file\n",
    "DF_M.to_csv(\"mobilenet.csv\",index=False)"
   ]
  },
  {
   "cell_type": "code",
   "execution_count": 30,
   "metadata": {
    "colab": {
     "base_uri": "https://localhost:8080/"
    },
    "executionInfo": {
     "elapsed": 4726,
     "status": "ok",
     "timestamp": 1621662656708,
     "user": {
      "displayName": "KLRS Biomedical",
      "photoUrl": "",
      "userId": "13462190752636494514"
     },
     "user_tz": -330
    },
    "id": "XqEpww2T_9UI",
    "outputId": "1d9bd364-6a2d-494f-a5a0-a5e9db0a550d"
   },
   "outputs": [
    {
     "name": "stdout",
     "output_type": "stream",
     "text": [
      "True Positives: 223\n",
      "True Negatives: 260\n",
      "False Positives: 14\n",
      "False Negatives: 0\n",
      "--------------------------------------------------\n",
      "Accuracy: 0.97\n",
      "Mis-Classification: 0.03\n",
      "Sensitivity: 1.0\n",
      "Specificity: 0.95\n",
      "Precision: 0.95\n",
      "f1 Score: 0.97\n",
      "None\n"
     ]
    }
   ],
   "source": [
    "metrics_mobilenet = confusion_metrics(cm_mobilenet)\n",
    "print(metrics_mobilenet)"
   ]
  },
  {
   "cell_type": "code",
   "execution_count": 31,
   "metadata": {
    "executionInfo": {
     "elapsed": 9075,
     "status": "ok",
     "timestamp": 1621662685179,
     "user": {
      "displayName": "KLRS Biomedical",
      "photoUrl": "",
      "userId": "13462190752636494514"
     },
     "user_tz": -330
    },
    "id": "GKuzFlFLCR_6"
   },
   "outputs": [],
   "source": [
    "inception =  keras.models.load_model('/content/drive/MyDrive/Colab Notebooks/inceptionV31905.h5')"
   ]
  },
  {
   "cell_type": "code",
   "execution_count": null,
   "metadata": {
    "id": "MeAhnQYZCdDM"
   },
   "outputs": [],
   "source": [
    "SIZE_OF_IMAGE_I = 150\n",
    "def read_image(imagepath):\n",
    "    return cv2.imread(os.path.join(data_directory, imagepath))\n",
    "\n",
    "def resize_image(image, image_Size):\n",
    "    return cv2.resize(image.copy(), image_Size, interpolation=cv2.INTER_AREA)"
   ]
  },
  {
   "cell_type": "code",
   "execution_count": null,
   "metadata": {
    "colab": {
     "base_uri": "https://localhost:8080/"
    },
    "executionInfo": {
     "elapsed": 12986,
     "status": "ok",
     "timestamp": 1620998082512,
     "user": {
      "displayName": "KLRS Biomedical",
      "photoUrl": "",
      "userId": "13462190752636494514"
     },
     "user_tz": -330
    },
    "id": "RjF_ZYCYCuSz",
    "outputId": "d5887cf5-8940-4d66-803d-83f7b65cce2c"
   },
   "outputs": [
    {
     "name": "stderr",
     "output_type": "stream",
     "text": [
      "2481it [00:09, 263.32it/s]\n"
     ]
    },
    {
     "name": "stdout",
     "output_type": "stream",
     "text": [
      "Train shape: (2481, 150, 150, 3)\n"
     ]
    }
   ],
   "source": [
    "x_train_I = np.zeros((train.shape[0], SIZE_OF_IMAGE_I, SIZE_OF_IMAGE_I, 3))\n",
    "\n",
    "for i, file in tqdm(enumerate(train['Image'].values)):\n",
    "    image = read_image(file)\n",
    "    \n",
    "    if image is not None:\n",
    "        x_train_I[i] = resize_image(image,(SIZE_OF_IMAGE_I, SIZE_OF_IMAGE_I))\n",
    "        \n",
    "X_Train_I = x_train_I / 255\n",
    "\n",
    "print('Train shape: {}'.format(X_Train_I.shape))"
   ]
  },
  {
   "cell_type": "code",
   "execution_count": null,
   "metadata": {
    "id": "1caJ6vO0CrUv"
   },
   "outputs": [],
   "source": [
    "y_train_I = train['Class ID'].values\n",
    "y_train_I = to_categorical(y_train_I, num_classes=2)"
   ]
  },
  {
   "cell_type": "code",
   "execution_count": null,
   "metadata": {
    "id": "4GPV04-rCh-X"
   },
   "outputs": [],
   "source": [
    "BATCH_SIZE = 64\n",
    "\n",
    "X_train_I, X_test_I, Y_train_I, Y_test_I = train_test_split(X_Train_I,y_train_I, test_size=0.2, random_state=SEED)"
   ]
  },
  {
   "cell_type": "code",
   "execution_count": 32,
   "metadata": {
    "executionInfo": {
     "elapsed": 4525,
     "status": "ok",
     "timestamp": 1621662738223,
     "user": {
      "displayName": "KLRS Biomedical",
      "photoUrl": "",
      "userId": "13462190752636494514"
     },
     "user_tz": -330
    },
    "id": "86L0yhm4DLwd"
   },
   "outputs": [],
   "source": [
    "Y_predict_inception = inception.predict(X_train_M)\n",
    "Y_predict_inception = np.argmax(Y_predict_inception, axis= 1)\n",
    "Y_true = np.argmax(Y_train_M, axis=1)\n",
    "\n",
    "\n",
    "# convert array into dataframe\n",
    "DF = pd.DataFrame(Y_predict_inception,columns=['Inception V3 Prediction'])\n",
    "\n",
    "# save the dataframe as a csv file\n",
    "DF.to_csv(\"inception training data.csv\",index=False)"
   ]
  },
  {
   "cell_type": "code",
   "execution_count": 34,
   "metadata": {
    "colab": {
     "base_uri": "https://localhost:8080/",
     "height": 407
    },
    "executionInfo": {
     "elapsed": 3017,
     "status": "ok",
     "timestamp": 1621662788030,
     "user": {
      "displayName": "KLRS Biomedical",
      "photoUrl": "",
      "userId": "13462190752636494514"
     },
     "user_tz": -330
    },
    "id": "mr_DRIRkCirc",
    "outputId": "0cec6bae-6696-485f-f188-bbef842b1309"
   },
   "outputs": [
    {
     "data": {
      "image/png": "[encoded data removed]",
      "text/plain": [
       "<Figure size 432x432 with 1 Axes>"
      ]
     },
     "metadata": {
      "needs_background": "light",
      "tags": []
     },
     "output_type": "display_data"
    }
   ],
   "source": [
    "Y_predict_inception = inception.predict(X_test_M)\n",
    "Y_predict_inception = np.argmax(Y_predict_inception, axis= 1)\n",
    "Y_true = np.argmax(Y_test_M, axis=1)\n",
    "\n",
    "cm_inception = confusion_matrix(Y_true, Y_predict_inception)\n",
    "plt.figure(figsize=(6,6))\n",
    "\n",
    "ax= sns.heatmap(cm_inception, cmap=plt.cm.Blues, annot=True,fmt='d',annot_kws={\"size\": 25},cbar=False, square=True, xticklabels=type_of_disease,yticklabels=type_of_disease)\n",
    "ax.set_ylabel('Actual', fontsize=30)\n",
    "ax.set_xlabel('Predicted', fontsize=30)\n",
    "plt.savefig('Confusion matrix_inception_df.svg', format='svg', dpi=1200)"
   ]
  },
  {
   "cell_type": "code",
   "execution_count": 35,
   "metadata": {
    "executionInfo": {
     "elapsed": 468,
     "status": "ok",
     "timestamp": 1621662858423,
     "user": {
      "displayName": "KLRS Biomedical",
      "photoUrl": "",
      "userId": "13462190752636494514"
     },
     "user_tz": -330
    },
    "id": "HpwSB2nCBI7S"
   },
   "outputs": [],
   "source": [
    "# convert array into dataframe\n",
    "DF_I = pd.DataFrame(Y_predict_inception,columns=['Inception V3 Prediction'])\n",
    "\n",
    "# save the dataframe as a csv file\n",
    "DF_I.to_csv(\"inception.csv\",index=False)"
   ]
  },
  {
   "cell_type": "code",
   "execution_count": 36,
   "metadata": {
    "executionInfo": {
     "elapsed": 436,
     "status": "ok",
     "timestamp": 1621662879129,
     "user": {
      "displayName": "KLRS Biomedical",
      "photoUrl": "",
      "userId": "13462190752636494514"
     },
     "user_tz": -330
    },
    "id": "qT36l4jnCZcQ"
   },
   "outputs": [],
   "source": [
    "# convert array into dataframe\n",
    "DF_true = pd.DataFrame(Y_true,columns=['Y True'])\n",
    "\n",
    "# save the dataframe as a csv file\n",
    "DF_true.to_csv(\"true_values.csv\",index=False)"
   ]
  },
  {
   "cell_type": "code",
   "execution_count": 37,
   "metadata": {
    "executionInfo": {
     "elapsed": 495,
     "status": "ok",
     "timestamp": 1621662891190,
     "user": {
      "displayName": "KLRS Biomedical",
      "photoUrl": "",
      "userId": "13462190752636494514"
     },
     "user_tz": -330
    },
    "id": "4PkEYLvlEM9t"
   },
   "outputs": [],
   "source": [
    "Y_train_true = np.argmax(Y_train_M, axis=1)\n",
    "\n",
    "# convert array into dataframe\n",
    "DF_true = pd.DataFrame(Y_train_true,columns=['Y True train'])\n",
    "\n",
    "# save the dataframe as a csv file\n",
    "DF_true.to_csv(\"train_true_values.csv\",index=False)"
   ]
  },
  {
   "cell_type": "code",
   "execution_count": 38,
   "metadata": {
    "colab": {
     "base_uri": "https://localhost:8080/"
    },
    "executionInfo": {
     "elapsed": 424,
     "status": "ok",
     "timestamp": 1621662908818,
     "user": {
      "displayName": "KLRS Biomedical",
      "photoUrl": "",
      "userId": "13462190752636494514"
     },
     "user_tz": -330
    },
    "id": "t6Menw_kBa9w",
    "outputId": "32c91a6f-73ad-45fe-f05a-25759b6aab17"
   },
   "outputs": [
    {
     "name": "stdout",
     "output_type": "stream",
     "text": [
      "True Positives: 214\n",
      "True Negatives: 255\n",
      "False Positives: 19\n",
      "False Negatives: 9\n",
      "--------------------------------------------------\n",
      "Accuracy: 0.94\n",
      "Mis-Classification: 0.06\n",
      "Sensitivity: 0.96\n",
      "Specificity: 0.93\n",
      "Precision: 0.93\n",
      "f1 Score: 0.94\n",
      "None\n"
     ]
    }
   ],
   "source": [
    "metrics_inception = confusion_metrics(cm_inception)\n",
    "print(metrics_inception)"
   ]
  },
  {
   "cell_type": "markdown",
   "metadata": {},
   "source": [
    "Equal weightage all the three models "
   ]
  },
  {
   "cell_type": "code",
   "execution_count": null,
   "metadata": {
    "colab": {
     "base_uri": "https://localhost:8080/",
     "height": 449
    },
    "executionInfo": {
     "elapsed": 864,
     "status": "error",
     "timestamp": 1621663161572,
     "user": {
      "displayName": "KLRS Biomedical",
      "photoUrl": "",
      "userId": "13462190752636494514"
     },
     "user_tz": -330
    },
    "id": "nA-9UUfhDhtR",
    "outputId": "7154f8f0-3dbf-471f-fe12-69bcc71ef9bf"
   },
   "outputs": [],
   "source": [
    "d_array = np.array(Y_predict_densenet)\n",
    "m_array = np.array(Y_predict_mobilenet)\n",
    "i_array = np.array(Y_predict_inception)\n",
    "\n",
    "df = pd.DataFrame(d_array,m_array,i_array)#, columns = ['Densenet121 Prediction','MobilNet Prediction','Inception V3 Prediction'])\n",
    "\n",
    "print(df)"
   ]
  },
  {
   "cell_type": "code",
   "execution_count": null,
   "metadata": {
    "id": "A9Dd9iQwGKdz"
   },
   "outputs": [],
   "source": [
    "def confusion_metrics (conf_matrix):\n",
    "\n",
    "    TP = conf_matrix[1][1]\n",
    "    TN = conf_matrix[0][0]\n",
    "    FP = conf_matrix[0][1]\n",
    "    FN = conf_matrix[1][0]\n",
    "    print('True Positives:', TP)\n",
    "    print('True Negatives:', TN)\n",
    "    print('False Positives:', FP)\n",
    "    print('False Negatives:', FN)\n",
    "    \n",
    "    #accuracy\n",
    "    conf_accuracy = (float (TP+TN) / float(TP + TN + FP + FN))\n",
    "    \n",
    "    #mis-classification\n",
    "    conf_misclassification = 1- conf_accuracy\n",
    "    \n",
    "    #sensitivity\n",
    "    conf_sensitivity = (TP / float(TP + FN))\n",
    "\n",
    "    #specificity\n",
    "    conf_specificity = (TN / float(TN + FP))\n",
    "    \n",
    "    #precision\n",
    "    conf_precision = (TN / float(TN + FP))\n",
    "\n",
    "    # f1 score\n",
    "    conf_f1 = 2 * ((conf_precision * conf_sensitivity) / (conf_precision + conf_sensitivity))\n",
    "    print('-'*50)\n",
    "\n",
    "    print(f'Accuracy: {round(conf_accuracy,2)}') \n",
    "    print(f'Mis-Classification: {round(conf_misclassification,2)}') \n",
    "    print(f'Sensitivity: {round(conf_sensitivity,2)}') \n",
    "    print(f'Specificity: {round(conf_specificity,2)}') \n",
    "    print(f'Precision: {round(conf_precision,2)}')\n",
    "    print(f'f1 Score: {round(conf_f1,2)}')"
   ]
  },
  {
   "cell_type": "code",
   "execution_count": null,
   "metadata": {
    "colab": {
     "base_uri": "https://localhost:8080/"
    },
    "executionInfo": {
     "elapsed": 1007,
     "status": "ok",
     "timestamp": 1620724266237,
     "user": {
      "displayName": "KLRS Biomedical",
      "photoUrl": "",
      "userId": "13462190752636494514"
     },
     "user_tz": -330
    },
    "id": "cZgvb1fhp7uH",
    "outputId": "9e96d834-f55a-4f59-d2cf-8aa49bf5a459"
   },
   "outputs": [
    {
     "name": "stdout",
     "output_type": "stream",
     "text": [
      "True Positives: 216\n",
      "True Negatives: 262\n",
      "False Positives: 12\n",
      "False Negatives: 7\n",
      "--------------------------------------------------\n",
      "Accuracy: 0.96\n",
      "Mis-Classification: 0.04\n",
      "Sensitivity: 0.97\n",
      "Specificity: 0.96\n",
      "Precision: 0.96\n",
      "f1 Score: 0.96\n",
      "None\n"
     ]
    }
   ],
   "source": [
    "metrics = confusion_metrics(cm)\n",
    "print(metrics)"
   ]
  },
  {
   "cell_type": "markdown",
   "metadata": {},
   "source": [
    "Using logistic regression for ensemble classifier"
   ]
  },
  {
   "cell_type": "code",
   "execution_count": 50,
   "metadata": {
    "colab": {
     "base_uri": "https://localhost:8080/"
    },
    "executionInfo": {
     "elapsed": 433,
     "status": "ok",
     "timestamp": 1621663608431,
     "user": {
      "displayName": "KLRS Biomedical",
      "photoUrl": "",
      "userId": "13462190752636494514"
     },
     "user_tz": -330
    },
    "id": "yEGiKo4mF6hQ",
    "outputId": "31536ca9-06a4-4f0b-fac7-57d66045d4fc"
   },
   "outputs": [
    {
     "name": "stdout",
     "output_type": "stream",
     "text": [
      "      DenseNet121 Prediction  ...  Y True train\n",
      "0                          0  ...             0\n",
      "1                          0  ...             0\n",
      "2                          0  ...             0\n",
      "3                          0  ...             0\n",
      "4                          1  ...             1\n",
      "...                      ...  ...           ...\n",
      "1979                       0  ...             0\n",
      "1980                       0  ...             0\n",
      "1981                       0  ...             0\n",
      "1982                       1  ...             1\n",
      "1983                       1  ...             1\n",
      "\n",
      "[1984 rows x 4 columns]\n"
     ]
    }
   ],
   "source": [
    "import pandas as pd\n",
    "import numpy as np\n",
    "\n",
    "df1 = pd.read_csv(\"/content/densenet training data.csv\") \n",
    "df2 = pd.read_csv(\"/content/inception training data.csv\") \n",
    "df3 = pd.read_csv(\"/content/mobilenet training data.csv\")\n",
    "df4 = pd.read_csv(\"/content/train_true_values.csv\") \n",
    "\n",
    "df_train = pd.concat([df1, df2, df3, df4], axis=1)\n",
    "\n",
    "print(df_train)\n",
    "\n"
   ]
  },
  {
   "cell_type": "code",
   "execution_count": 51,
   "metadata": {
    "colab": {
     "base_uri": "https://localhost:8080/"
    },
    "executionInfo": {
     "elapsed": 520,
     "status": "ok",
     "timestamp": 1621663631145,
     "user": {
      "displayName": "KLRS Biomedical",
      "photoUrl": "",
      "userId": "13462190752636494514"
     },
     "user_tz": -330
    },
    "id": "3eq4I9k6MtR3",
    "outputId": "c771d237-0a69-4a04-fbd7-43c638bddeaf"
   },
   "outputs": [
    {
     "name": "stdout",
     "output_type": "stream",
     "text": [
      "     DenseNet121 Prediction  ...  Y True\n",
      "0                         0  ...       0\n",
      "1                         1  ...       1\n",
      "2                         1  ...       1\n",
      "3                         1  ...       1\n",
      "4                         0  ...       0\n",
      "..                      ...  ...     ...\n",
      "492                       1  ...       0\n",
      "493                       1  ...       1\n",
      "494                       0  ...       0\n",
      "495                       0  ...       0\n",
      "496                       0  ...       0\n",
      "\n",
      "[497 rows x 4 columns]\n"
     ]
    }
   ],
   "source": [
    "df11 = pd.read_csv(\"/content/densenet.csv\") \n",
    "df21 = pd.read_csv(\"/content/inception.csv\") \n",
    "df31 = pd.read_csv(\"/content/mobilenet.csv\")\n",
    "df41 = pd.read_csv(\"/content/true_values.csv\") \n",
    "\n",
    "df_test = pd.concat([df11, df21, df31, df41], axis=1)\n",
    "\n",
    "print(df_test)"
   ]
  },
  {
   "cell_type": "code",
   "execution_count": 52,
   "metadata": {
    "executionInfo": {
     "elapsed": 482,
     "status": "ok",
     "timestamp": 1621663637892,
     "user": {
      "displayName": "KLRS Biomedical",
      "photoUrl": "",
      "userId": "13462190752636494514"
     },
     "user_tz": -330
    },
    "id": "9mIl7W7DNhdN"
   },
   "outputs": [],
   "source": [
    "X_train = df_train.drop('Y True train',axis=1)\n",
    "X_test = df_test.drop('Y True',axis=1)\n",
    "y_train = df_train['Y True train']\n",
    "Y_true = df_test['Y True']"
   ]
  },
  {
   "cell_type": "code",
   "execution_count": null,
   "metadata": {
    "id": "Wc9DtAddP2l5"
   },
   "outputs": [],
   "source": [
    "plt"
   ]
  },
  {
   "cell_type": "code",
   "execution_count": 53,
   "metadata": {
    "executionInfo": {
     "elapsed": 8,
     "status": "ok",
     "timestamp": 1621663641225,
     "user": {
      "displayName": "KLRS Biomedical",
      "photoUrl": "",
      "userId": "13462190752636494514"
     },
     "user_tz": -330
    },
    "id": "opUEcvToNvLS"
   },
   "outputs": [],
   "source": [
    "from sklearn.linear_model import LogisticRegression"
   ]
  },
  {
   "cell_type": "code",
   "execution_count": 54,
   "metadata": {
    "colab": {
     "base_uri": "https://localhost:8080/"
    },
    "executionInfo": {
     "elapsed": 5,
     "status": "ok",
     "timestamp": 1621663644659,
     "user": {
      "displayName": "KLRS Biomedical",
      "photoUrl": "",
      "userId": "13462190752636494514"
     },
     "user_tz": -330
    },
    "id": "Vage18liNxzN",
    "outputId": "a2f52d3b-182e-4069-b09c-ffa28c050df9"
   },
   "outputs": [
    {
     "data": {
      "text/plain": [
       "LogisticRegression(C=1.0, class_weight=None, dual=False, fit_intercept=True,\n",
       "                   intercept_scaling=1, l1_ratio=None, max_iter=100,\n",
       "                   multi_class='auto', n_jobs=None, penalty='l2',\n",
       "                   random_state=None, solver='lbfgs', tol=0.0001, verbose=0,\n",
       "                   warm_start=False)"
      ]
     },
     "execution_count": 54,
     "metadata": {
      "tags": []
     },
     "output_type": "execute_result"
    }
   ],
   "source": [
    "logmodel = LogisticRegression()\n",
    "logmodel.fit(X_train,y_train)"
   ]
  },
  {
   "cell_type": "code",
   "execution_count": 55,
   "metadata": {
    "executionInfo": {
     "elapsed": 10,
     "status": "ok",
     "timestamp": 1621663647322,
     "user": {
      "displayName": "KLRS Biomedical",
      "photoUrl": "",
      "userId": "13462190752636494514"
     },
     "user_tz": -330
    },
    "id": "jiv1kNuFN1C9"
   },
   "outputs": [],
   "source": [
    "predictions = logmodel.predict(X_test)"
   ]
  },
  {
   "cell_type": "code",
   "execution_count": 56,
   "metadata": {
    "colab": {
     "base_uri": "https://localhost:8080/",
     "height": 407
    },
    "executionInfo": {
     "elapsed": 457,
     "status": "ok",
     "timestamp": 1621663720187,
     "user": {
      "displayName": "KLRS Biomedical",
      "photoUrl": "",
      "userId": "13462190752636494514"
     },
     "user_tz": -330
    },
    "id": "osiM5MmxOTMm",
    "outputId": "168713e2-f4c3-4ab5-e6b6-4c6d688013ac"
   },
   "outputs": [
    {
     "data": {
      "image/png": "[encoded data removed]",
      "text/plain": [
       "<Figure size 432x432 with 1 Axes>"
      ]
     },
     "metadata": {
      "needs_background": "light",
      "tags": []
     },
     "output_type": "display_data"
    }
   ],
   "source": [
    "cm_uw = confusion_matrix(Y_true, predictions)\n",
    "type_of_disease =['COVID', 'non-COVID']\n",
    "plt.figure(figsize=(6,6))\n",
    "\n",
    "ax= sns.heatmap(cm_uw, cmap=plt.cm.Blues, annot=True,fmt='d',annot_kws={\"size\": 25},cbar=False, square=True, xticklabels=type_of_disease,yticklabels=type_of_disease)\n",
    "ax.set_ylabel('Actual', fontsize=30)\n",
    "ax.set_xlabel('Predicted', fontsize=30)\n",
    "plt.savefig('Confusion matrix_unequal_wts.svg', format='svg', dpi=1200)"
   ]
  },
  {
   "cell_type": "code",
   "execution_count": 57,
   "metadata": {
    "colab": {
     "base_uri": "https://localhost:8080/"
    },
    "executionInfo": {
     "elapsed": 537,
     "status": "ok",
     "timestamp": 1621663787004,
     "user": {
      "displayName": "KLRS Biomedical",
      "photoUrl": "",
      "userId": "13462190752636494514"
     },
     "user_tz": -330
    },
    "id": "Gjij-aVPOEnL",
    "outputId": "db2f3ad5-12fe-455e-815a-f8f6486c3543"
   },
   "outputs": [
    {
     "name": "stdout",
     "output_type": "stream",
     "text": [
      "True Positives: 221\n",
      "True Negatives: 257\n",
      "False Positives: 17\n",
      "False Negatives: 2\n",
      "--------------------------------------------------\n",
      "Accuracy: 0.96\n",
      "Mis-Classification: 0.04\n",
      "Sensitivity: 0.99\n",
      "Specificity: 0.94\n",
      "Precision: 0.94\n",
      "f1 Score: 0.96\n",
      "None\n"
     ]
    }
   ],
   "source": [
    "#unequal weights\n",
    "metrics = confusion_metrics(cm)\n",
    "print(metrics)"
   ]
  }
 ],
 "metadata": {
  "accelerator": "GPU",
  "colab": {
   "authorship_tag": "ABX9TyMqQHTN/7eezkqhtFezu+cx",
   "collapsed_sections": [],
   "mount_file_id": "1jnchsywkjpEsNPYpmC2GNcUC0joj-Q6P",
   "name": "Decision fussion.ipynb",
   "provenance": []
  },
  "kernelspec": {
   "display_name": "Python 3",
   "language": "python",
   "name": "python3"
  },
  "language_info": {
   "codemirror_mode": {
    "name": "ipython",
    "version": 3
   },
   "file_extension": ".py",
   "mimetype": "text/x-python",
   "name": "python",
   "nbconvert_exporter": "python",
   "pygments_lexer": "ipython3",
   "version": "3.7.10"
  }
 },
 "nbformat": 4,
 "nbformat_minor": 1
}
